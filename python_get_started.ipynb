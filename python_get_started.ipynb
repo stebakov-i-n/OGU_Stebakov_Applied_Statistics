{
  "cells": [
    {
      "cell_type": "markdown",
      "metadata": {
        "id": "xMIElUGy1p6_"
      },
      "source": [
        "# Типы данных и операторы"
      ]
    },
    {
      "cell_type": "code",
      "execution_count": null,
      "metadata": {
        "colab": {
          "base_uri": "https://localhost:8080/"
        },
        "id": "axaIYsvG1p7A",
        "outputId": "5c993510-9ec6-4856-c9bf-ca78f8dd9bcf"
      },
      "outputs": [
        {
          "name": "stdout",
          "output_type": "stream",
          "text": [
            "'Hello world!' - <class 'str'>\n",
            "4 - <class 'int'>\n",
            "4. - <class 'float'>\n",
            "True - <class 'bool'>\n",
            "None - <class 'NoneType'>\n"
          ]
        }
      ],
      "source": [
        "# Типы данных\n",
        "\n",
        "print(f'\\'Hello world!\\' - {type(\"Hello world!\")}')\n",
        "print(f'4 - {type(4)}')\n",
        "print(f'4. - {type(4.)}')\n",
        "print(f'True - {type(True)}')\n",
        "print(f'None - {type(None)}')"
      ]
    },
    {
      "cell_type": "code",
      "execution_count": null,
      "metadata": {
        "colab": {
          "base_uri": "https://localhost:8080/"
        },
        "id": "PtXSyOPC1p7A",
        "outputId": "1fd0cfdd-27fc-40bb-bd1b-d705e2eb8952"
      },
      "outputs": [
        {
          "name": "stdout",
          "output_type": "stream",
          "text": [
            "2 + 3 = 5\n",
            "5.5 - 2 = 3.5\n",
            "20 * 3 = 60\n",
            "20 / 3 = 6.666666666666667\n",
            "12 // 5 = 2\n",
            "12 % 5 = 2\n",
            "2 ** 2 = 4\n",
            "4 ** 0.5 = 2.0\n"
          ]
        }
      ],
      "source": [
        "# Арифметические операторы\n",
        "\n",
        "print(f'2 + 3 = {2 + 3}')\n",
        "print(f'5.5 - 2 = {5.5 - 2}')\n",
        "print(f'20 * 3 = {20 * 3}')\n",
        "print(f'20 / 3 = {20 / 3}')\n",
        "print(f'12 // 5 = {12 // 5}')\n",
        "print(f'12 % 5 = {12 % 5}')\n",
        "print(f'2 ** 2 = {2 ** 2}')\n",
        "print(f'4 ** 0.5 = {4 ** 0.5}')"
      ]
    },
    {
      "cell_type": "code",
      "execution_count": null,
      "metadata": {
        "colab": {
          "base_uri": "https://localhost:8080/"
        },
        "id": "-_6I_OeQ1p7B",
        "outputId": "f8d08f75-b38a-470d-ddae-2f5ac804b573"
      },
      "outputs": [
        {
          "name": "stdout",
          "output_type": "stream",
          "text": [
            "5 > 2 - True\n",
            "5 <= 2 - False\n",
            "5 == 5 - True\n"
          ]
        }
      ],
      "source": [
        "# Операторы сравнения\n",
        "\n",
        "print(f'5 > 2 - {5 > 2}')\n",
        "print(f'5 <= 2 - {5 <= 2}')\n",
        "print(f'5 == 5 - {5 == 5}')"
      ]
    },
    {
      "cell_type": "code",
      "execution_count": null,
      "metadata": {
        "colab": {
          "base_uri": "https://localhost:8080/"
        },
        "id": "tK92pbCF1p7B",
        "outputId": "bed7f61e-dc1b-40b3-8cfb-c47a10af9aa1"
      },
      "outputs": [
        {
          "name": "stdout",
          "output_type": "stream",
          "text": [
            "5 == 5 and 5 <= 2 - False\n",
            "5 == 5 or 5 <= 2 - True\n",
            "not 5 == 5 - False\n"
          ]
        }
      ],
      "source": [
        "# Логические операторы\n",
        "\n",
        "print(f'5 == 5 and 5 <= 2 - {5 == 5 and 5 <= 2}')\n",
        "print(f'5 == 5 or 5 <= 2 - {5 == 5 or 5 <= 2}')\n",
        "print(f'not 5 == 5 - {not 5 == 5}')"
      ]
    },
    {
      "cell_type": "code",
      "execution_count": null,
      "metadata": {
        "colab": {
          "base_uri": "https://localhost:8080/"
        },
        "id": "x24QnyLK1p7C",
        "outputId": "3b7ee321-112c-4ed6-92c5-e97a9d664b10"
      },
      "outputs": [
        {
          "name": "stdout",
          "output_type": "stream",
          "text": [
            "int(5.6) - 5\n",
            "float('6.5') - 6.5\n",
            "bool(10) - True\n"
          ]
        }
      ],
      "source": [
        "# Приведение типов\n",
        "\n",
        "print(f'int(5.6) - {int(5.6)}')\n",
        "print(f'float(\\'6.5\\') - {float(\"6.5\")}')\n",
        "print(f'bool(10) - {bool(10)}')"
      ]
    },
    {
      "cell_type": "markdown",
      "metadata": {
        "id": "ylR0s8rdtf6P"
      },
      "source": [
        " # Переменные"
      ]
    },
    {
      "cell_type": "code",
      "execution_count": null,
      "metadata": {
        "colab": {
          "base_uri": "https://localhost:8080/"
        },
        "id": "skYbtyoztlZJ",
        "outputId": "38635a4f-4f0d-415e-aab4-195e4dc4f3d8"
      },
      "outputs": [
        {
          "name": "stdout",
          "output_type": "stream",
          "text": [
            "True\n"
          ]
        }
      ],
      "source": [
        "a = 3.3\n",
        "b = a\n",
        "\n",
        "print(a is b)"
      ]
    },
    {
      "cell_type": "code",
      "execution_count": null,
      "metadata": {
        "colab": {
          "base_uri": "https://localhost:8080/"
        },
        "id": "DQD0HdqjufiG",
        "outputId": "218172f4-975e-4ada-8d41-7608692f9704"
      },
      "outputs": [
        {
          "name": "stdout",
          "output_type": "stream",
          "text": [
            "False\n"
          ]
        }
      ],
      "source": [
        "b = 4\n",
        "\n",
        "print(a is b)"
      ]
    },
    {
      "cell_type": "code",
      "execution_count": null,
      "metadata": {
        "colab": {
          "base_uri": "https://localhost:8080/"
        },
        "id": "ZPYpxvpLuXFo",
        "outputId": "d596d600-ecf6-4c60-f66e-b8def015ecbb"
      },
      "outputs": [
        {
          "name": "stdout",
          "output_type": "stream",
          "text": [
            "False\n"
          ]
        }
      ],
      "source": [
        "a = 3.3\n",
        "b = 3.3\n",
        "\n",
        "print(a is b)"
      ]
    },
    {
      "cell_type": "code",
      "execution_count": null,
      "metadata": {
        "id": "WeQCWxKFE1PW",
        "outputId": "0290f582-3f8d-46b3-8292-ec16d2484410"
      },
      "outputs": [
        {
          "name": "stdout",
          "output_type": "stream",
          "text": [
            "5 2\n"
          ]
        }
      ],
      "source": [
        "# Групповое присваивание\n",
        "\n",
        "a = 2\n",
        "b = 5\n",
        "a, b = b, a\n",
        "\n",
        "print(a, b)"
      ]
    },
    {
      "cell_type": "markdown",
      "metadata": {
        "id": "zupcZkKm1p7C"
      },
      "source": [
        "# Функции и условия"
      ]
    },
    {
      "cell_type": "code",
      "execution_count": null,
      "metadata": {
        "colab": {
          "base_uri": "https://localhost:8080/"
        },
        "id": "u5h1G5c71p7D",
        "outputId": "271728eb-cf80-4ed7-945e-36aaf33142c6"
      },
      "outputs": [
        {
          "name": "stdout",
          "output_type": "stream",
          "text": [
            "6.5\n"
          ]
        }
      ],
      "source": [
        "def summ(a, b):\n",
        "    return a + b\n",
        "\n",
        "print(summ(1, 5.5))"
      ]
    },
    {
      "cell_type": "code",
      "execution_count": null,
      "metadata": {
        "colab": {
          "base_uri": "https://localhost:8080/"
        },
        "id": "IVTpJK7h1p7D",
        "outputId": "49c6e58e-0345-4dc0-a3cc-a64c27da2fd1"
      },
      "outputs": [
        {
          "name": "stdout",
          "output_type": "stream",
          "text": [
            "7\n"
          ]
        }
      ],
      "source": [
        "def maximum(a, b):\n",
        "    if a > b:\n",
        "        return a\n",
        "    return b\n",
        "\n",
        "print(maximum(5, 7))"
      ]
    },
    {
      "cell_type": "code",
      "execution_count": null,
      "metadata": {
        "colab": {
          "base_uri": "https://localhost:8080/"
        },
        "id": "j4L_t_Yp1p7D",
        "outputId": "e1ddcb4b-2f25-4cbd-fd1f-01525efd1f4d"
      },
      "outputs": [
        {
          "name": "stdout",
          "output_type": "stream",
          "text": [
            "adult\n"
          ]
        }
      ],
      "source": [
        "def how_old(age):\n",
        "    if age < 18:\n",
        "        print('young')\n",
        "    elif age < 70:\n",
        "        print('adult')\n",
        "    else:\n",
        "        print('old')\n",
        "\n",
        "how_old(45)"
      ]
    },
    {
      "cell_type": "code",
      "execution_count": null,
      "metadata": {
        "colab": {
          "base_uri": "https://localhost:8080/"
        },
        "id": "LxxFfm021p7E",
        "outputId": "3529984a-7db2-4161-9b3c-c53e77ab8161"
      },
      "outputs": [
        {
          "name": "stdout",
          "output_type": "stream",
          "text": [
            "5\n"
          ]
        }
      ],
      "source": [
        "a = 5\n",
        "b = a if a < 10 else 10\n",
        "\n",
        "print(b)"
      ]
    },
    {
      "cell_type": "markdown",
      "metadata": {
        "id": "bbEZPHC4E1PX"
      },
      "source": [
        "# Ввод данных с клавиатуры"
      ]
    },
    {
      "cell_type": "code",
      "execution_count": null,
      "metadata": {
        "id": "YNrzkYmnE1PX",
        "outputId": "d0dc8a2f-e951-49f3-80bd-f66df88d0059"
      },
      "outputs": [
        {
          "name": "stdout",
          "output_type": "stream",
          "text": [
            "5\n",
            "<class 'str'>\n",
            "5\n"
          ]
        }
      ],
      "source": [
        "# Ввод данных с клавиатуры\n",
        "a = input()\n",
        "print(type(a))\n",
        "print(a)"
      ]
    },
    {
      "cell_type": "markdown",
      "metadata": {
        "id": "Qvr32fW21p7E"
      },
      "source": [
        "# Lists"
      ]
    },
    {
      "cell_type": "code",
      "execution_count": null,
      "metadata": {
        "_cell_guid": "b1076dfc-b9ad-4769-8c92-a6c4dae69d19",
        "_uuid": "8f2839f25d086af736a60e9eeb907d3b93b6e0e5",
        "colab": {
          "base_uri": "https://localhost:8080/"
        },
        "id": "KHAbM7Zt1p7E",
        "outputId": "20b512dc-a74b-4e18-ffca-7da5d1d2002b"
      },
      "outputs": [
        {
          "name": "stdout",
          "output_type": "stream",
          "text": [
            "[5, 2.1, 0, False, [1, 2, 3]], len: 5\n"
          ]
        }
      ],
      "source": [
        "# Инициализация\n",
        "\n",
        "a = []\n",
        "a = list()\n",
        "a = [5, 2.1, 0, False, [1, 2, 3]]\n",
        "\n",
        "print('{}, len: {}'.format(a, len(a)))"
      ]
    },
    {
      "cell_type": "code",
      "execution_count": null,
      "metadata": {
        "colab": {
          "base_uri": "https://localhost:8080/"
        },
        "id": "K4aYb5rQO1Pz",
        "outputId": "ac6c24c6-e2fc-4ffe-d7e4-1d3725aa9f11"
      },
      "outputs": [
        {
          "name": "stdout",
          "output_type": "stream",
          "text": [
            "a[0] - 5, a[-2] - False\n"
          ]
        }
      ],
      "source": [
        "# Индексация\n",
        "\n",
        "print('a[0] - {}, a[-2] - {}'.format(a[0], a[-2]))"
      ]
    },
    {
      "cell_type": "code",
      "execution_count": null,
      "metadata": {
        "colab": {
          "base_uri": "https://localhost:8080/"
        },
        "id": "oYeI1gYu1p7E",
        "outputId": "6b0a3913-219b-4725-b515-44c174cb8988"
      },
      "outputs": [
        {
          "name": "stdout",
          "output_type": "stream",
          "text": [
            "a: [0, 1, 2, 3, 4, 5]\n",
            "\n",
            "a[2:5]: [2, 3, 4]\n",
            "\n",
            "a[5:2]: []\n",
            "\n",
            "a[5:2:-1]: [5, 4, 3]\n",
            "\n",
            "a[:3]: [0, 1, 2]\n",
            "\n",
            "a[2:]: [2, 3, 4, 5]\n",
            "\n"
          ]
        }
      ],
      "source": [
        "# Срезы\n",
        "\n",
        "a = [0, 1, 2, 3, 4, 5]\n",
        "\n",
        "print('a: {}\\n'.format(a))\n",
        "\n",
        "print('a[2:5]: {}\\n'.format(a[2:5]))\n",
        "print('a[5:2]: {}\\n'.format(a[5:2]))\n",
        "print('a[5:2:-1]: {}\\n'.format(a[5:2:-1]))\n",
        "print('a[:3]: {}\\n'.format(a[:3]))\n",
        "print('a[2:]: {}\\n'.format(a[2:]))"
      ]
    },
    {
      "cell_type": "code",
      "execution_count": null,
      "metadata": {
        "colab": {
          "base_uri": "https://localhost:8080/"
        },
        "id": "hwH0HW1l1p7F",
        "outputId": "4d1e8a24-9fdc-466f-d6d6-16cf348e1fec"
      },
      "outputs": [
        {
          "name": "stdout",
          "output_type": "stream",
          "text": [
            "a: [0, 1, 2, 3, 4, 5]\n",
            "\n",
            "a[-5:-2]: [1, 2, 3]\n",
            "\n",
            "a[-5:-2:-1]: []\n",
            "\n",
            "a[::-1]: [5, 4, 3, 2, 1, 0]\n",
            "\n"
          ]
        }
      ],
      "source": [
        "print('a: {}\\n'.format(a))\n",
        "print('a[-5:-2]: {}\\n'.format(a[-5:-2]))\n",
        "print('a[-5:-2:-1]: {}\\n'.format(a[-5:-2:-1]))\n",
        "print('a[::-1]: {}\\n'.format(a[::-1]))"
      ]
    },
    {
      "cell_type": "code",
      "execution_count": null,
      "metadata": {
        "id": "7KeWmiKgE1PY",
        "outputId": "4c7affa6-81dd-425c-aaf9-b8a489c6501e"
      },
      "outputs": [
        {
          "name": "stdout",
          "output_type": "stream",
          "text": [
            "[0, 1, 2, 3, 4, 5] \n",
            "\n",
            "[0, 1, 199, 3, 4, 5] \n",
            "\n",
            "[0, 1, 199, 3, 1, 5] \n",
            "\n"
          ]
        }
      ],
      "source": [
        "# Присваивание значений элементам\n",
        "a = [0, 1, 2, 3, 4, 5]\n",
        "\n",
        "print(a, '\\n')\n",
        "\n",
        "a[2] = 199\n",
        "\n",
        "print(a, '\\n')\n",
        "\n",
        "a[-2] = 1\n",
        "\n",
        "print(a, '\\n')"
      ]
    },
    {
      "cell_type": "code",
      "execution_count": null,
      "metadata": {
        "colab": {
          "base_uri": "https://localhost:8080/"
        },
        "id": "ozYhKzxm1p7F",
        "outputId": "e5d0bab5-e706-4374-88ff-62fb06b515bf"
      },
      "outputs": [
        {
          "name": "stdout",
          "output_type": "stream",
          "text": [
            "[1, 4, 3]\n",
            "[1, 4, 3]\n"
          ]
        }
      ],
      "source": [
        "# Неправильное копирование списка\n",
        "\n",
        "a = [1,2,3]\n",
        "b = a\n",
        "b[1] = 4\n",
        "\n",
        "print(a)\n",
        "print(b)"
      ]
    },
    {
      "cell_type": "code",
      "execution_count": null,
      "metadata": {
        "colab": {
          "base_uri": "https://localhost:8080/"
        },
        "id": "3A6-ZGjY1p7F",
        "outputId": "dbfc1c4a-404a-4527-ad9b-ea7f12db0831"
      },
      "outputs": [
        {
          "name": "stdout",
          "output_type": "stream",
          "text": [
            "[1, 2, 3]\n",
            "[1, 4, 3]\n"
          ]
        }
      ],
      "source": [
        "# Правильное копирование списка\n",
        "\n",
        "a = [1,2,3]\n",
        "b = a[:]\n",
        "b[1] = 4\n",
        "\n",
        "print(a)\n",
        "print(b)"
      ]
    },
    {
      "cell_type": "code",
      "execution_count": null,
      "metadata": {
        "colab": {
          "base_uri": "https://localhost:8080/"
        },
        "id": "MgeWLFhW1p7F",
        "outputId": "d766b914-3c9f-41d1-99ef-d16ba41bba95"
      },
      "outputs": [
        {
          "name": "stdout",
          "output_type": "stream",
          "text": [
            "[1, 2, 3, 4]\n",
            "[1, 3, 4]\n"
          ]
        }
      ],
      "source": [
        "# Методы для работы со списками\n",
        "\n",
        "a = [1,2,3]\n",
        "a.append(4)\n",
        "\n",
        "print(a)\n",
        "\n",
        "a = [3, 4, 1]\n",
        "a.sort()\n",
        "\n",
        "print(a)"
      ]
    },
    {
      "cell_type": "markdown",
      "metadata": {
        "id": "6VXQPqqU1p7G"
      },
      "source": [
        "# Циклы"
      ]
    },
    {
      "cell_type": "code",
      "execution_count": null,
      "metadata": {
        "colab": {
          "base_uri": "https://localhost:8080/"
        },
        "id": "fYB_kXT71p7G",
        "outputId": "78daef82-faf2-459f-9c4f-ed6a25f4052d"
      },
      "outputs": [
        {
          "name": "stdout",
          "output_type": "stream",
          "text": [
            "1\n",
            "2\n",
            "3\n"
          ]
        }
      ],
      "source": [
        "for i in [1,2,3]:\n",
        "    print(i)"
      ]
    },
    {
      "cell_type": "code",
      "execution_count": null,
      "metadata": {
        "id": "SONZ2CbUE1PZ",
        "outputId": "035b98b8-a174-4701-83f2-b28055c34a18"
      },
      "outputs": [
        {
          "name": "stdout",
          "output_type": "stream",
          "text": [
            "5\n"
          ]
        }
      ],
      "source": [
        "# Цикл while\n",
        "\n",
        "a = 0\n",
        "\n",
        "while a < 5:\n",
        "    a += 1\n",
        "\n",
        "print(a)"
      ]
    },
    {
      "cell_type": "code",
      "execution_count": null,
      "metadata": {
        "id": "-vKOS7wxE1PZ",
        "outputId": "5812896e-5f51-4d78-d30f-50301a634c10"
      },
      "outputs": [
        {
          "name": "stdout",
          "output_type": "stream",
          "text": [
            "11\n"
          ]
        }
      ],
      "source": [
        "# Выход из цикла\n",
        "\n",
        "a = 0\n",
        "\n",
        "while True:\n",
        "    a += 1\n",
        "    if a > 10:\n",
        "        break\n",
        "\n",
        "print(a)"
      ]
    },
    {
      "cell_type": "code",
      "execution_count": null,
      "metadata": {
        "colab": {
          "base_uri": "https://localhost:8080/"
        },
        "id": "SivXpnyk1p7G",
        "outputId": "988dd7a8-3bfb-4a3c-a0e2-46871458e8da"
      },
      "outputs": [
        {
          "name": "stdout",
          "output_type": "stream",
          "text": [
            "2\n",
            "4\n",
            "6\n",
            "8\n"
          ]
        }
      ],
      "source": [
        "# Генератор арифметической последовательности\n",
        "\n",
        "for i in range(2, 10, 2):\n",
        "    print(i)"
      ]
    },
    {
      "cell_type": "code",
      "execution_count": null,
      "metadata": {
        "colab": {
          "base_uri": "https://localhost:8080/"
        },
        "id": "QaO0QBgC1p7G",
        "outputId": "f1a43bc5-c02d-4462-b19a-4162c44114a8"
      },
      "outputs": [
        {
          "name": "stdout",
          "output_type": "stream",
          "text": [
            "5 2\n",
            "1 4\n",
            "2 1\n",
            "5 7\n",
            "23 6\n",
            "3 8\n"
          ]
        }
      ],
      "source": [
        "# Цикл с индекосм\n",
        "\n",
        "a = [5, 1, 2, 5, 23, 3]\n",
        "b = [2, 4, 1, 7, 6, 8]\n",
        "\n",
        "for i in range(len(a)):\n",
        "    print(a[i], b[i])"
      ]
    },
    {
      "cell_type": "code",
      "execution_count": null,
      "metadata": {
        "colab": {
          "base_uri": "https://localhost:8080/"
        },
        "id": "acpnNuG91p7G",
        "outputId": "885f7174-f603-4b74-d2df-5fd89d3117ba"
      },
      "outputs": [
        {
          "name": "stdout",
          "output_type": "stream",
          "text": [
            "[0, 1, 2, 3, 4]\n"
          ]
        }
      ],
      "source": [
        "# Цикл для создания списка (списковые включения)\n",
        "\n",
        "a = [i for i in range(5)]\n",
        "print(a)"
      ]
    },
    {
      "cell_type": "code",
      "execution_count": null,
      "metadata": {
        "colab": {
          "base_uri": "https://localhost:8080/"
        },
        "id": "mWz9J3dj1p7H",
        "outputId": "df3fe9d3-3a13-419a-f06d-c9e3d8425fdf"
      },
      "outputs": [
        {
          "name": "stdout",
          "output_type": "stream",
          "text": [
            "[0, 0, 0, 0, 0, 0, 0, 0]\n"
          ]
        }
      ],
      "source": [
        "# Размножение списков\n",
        "\n",
        "a = [0] * 8\n",
        "\n",
        "print(a)"
      ]
    },
    {
      "cell_type": "code",
      "execution_count": null,
      "metadata": {
        "colab": {
          "base_uri": "https://localhost:8080/"
        },
        "id": "i17JCxIA1p7H",
        "outputId": "0ae4273e-735f-4708-bf8b-24debf8cdc77"
      },
      "outputs": [
        {
          "name": "stdout",
          "output_type": "stream",
          "text": [
            "[0, 0, 2, 0, 0, 0, 0, 0]\n",
            "[0, 0, 2, 0, 0, 0, 0, 0]\n",
            "[0, 0, 2, 0, 0, 0, 0, 0]\n",
            "[0, 0, 2, 0, 0, 0, 0, 0]\n",
            "[0, 0, 2, 0, 0, 0, 0, 0]\n",
            "[0, 0, 2, 0, 0, 0, 0, 0]\n",
            "[0, 0, 2, 0, 0, 0, 0, 0]\n",
            "[0, 0, 2, 0, 0, 0, 0, 0]\n"
          ]
        }
      ],
      "source": [
        "# Неправильное заполнение двумерного списка нулями\n",
        "\n",
        "a = [[0] * 8] * 8\n",
        "a[0][2] = 2\n",
        "\n",
        "for i in a:\n",
        "    print(i)"
      ]
    },
    {
      "cell_type": "code",
      "execution_count": null,
      "metadata": {
        "colab": {
          "base_uri": "https://localhost:8080/"
        },
        "id": "ngyyRP1d1p7H",
        "outputId": "7ca8c1ce-07b2-4af4-dfb7-cc3665af2485"
      },
      "outputs": [
        {
          "name": "stdout",
          "output_type": "stream",
          "text": [
            "[16, 16, 16, 16, 16, 16, 16, 16]\n",
            "[16, 16, 16, 16, 16, 16, 16, 16]\n",
            "[16, 16, 16, 16, 16, 16, 16, 16]\n",
            "[16, 16, 16, 16, 16, 16, 16, 16]\n",
            "[16, 16, 16, 16, 16, 16, 16, 16]\n",
            "[16, 16, 2, 16, 16, 16, 16, 16]\n",
            "[16, 16, 16, 16, 16, 16, 16, 16]\n",
            "[16, 16, 16, 16, 16, 16, 16, 16]\n"
          ]
        }
      ],
      "source": [
        "# Неправильное заполнение двумерного списка нулями\n",
        "\n",
        "a = [[16] * 8 for i in range(8)]\n",
        "a[5][2] = 2\n",
        "\n",
        "for i in a:\n",
        "    print(i)"
      ]
    },
    {
      "cell_type": "code",
      "execution_count": null,
      "metadata": {
        "colab": {
          "base_uri": "https://localhost:8080/"
        },
        "id": "stZOXit_pE9N",
        "outputId": "6af0030b-7a26-492b-bf16-d73c401e27e0"
      },
      "outputs": [
        {
          "name": "stdout",
          "output_type": "stream",
          "text": [
            "[16, 16, 16, 16, 16, 16, 16, 16]\n",
            "[16, 16, 16, 16, 16, 16, 16, 16]\n",
            "[16, 16, 16, 16, 16, 16, 16, 16]\n",
            "[16, 16, 16, 16, 16, 16, 16, 16]\n",
            "[16, 16, 16, 16, 16, 16, 16, 16]\n",
            "[16, 16, 2, 16, 16, 16, 16, 16]\n",
            "[16, 16, 16, 16, 16, 16, 16, 16]\n",
            "[16, 16, 16, 16, 16, 16, 16, 16]\n"
          ]
        }
      ],
      "source": [
        "# Неправильное заполнение двумерного списка нулями\n",
        "\n",
        "a = [[16] * 8 for i in range(8)]\n",
        "a[-3][2] = 2\n",
        "\n",
        "for i in a:\n",
        "    print(i)"
      ]
    },
    {
      "cell_type": "code",
      "execution_count": null,
      "metadata": {
        "colab": {
          "base_uri": "https://localhost:8080/"
        },
        "id": "UF29Clay1p7H",
        "outputId": "324cda94-6a8c-4ec0-f586-dd5a86305f19"
      },
      "outputs": [
        {
          "name": "stdout",
          "output_type": "stream",
          "text": [
            "[1, 2, 3, 1, 2, 3]\n"
          ]
        }
      ],
      "source": [
        "# Конкатенация списков\n",
        "\n",
        "a = [1,2,3] + [1,2,3]\n",
        "\n",
        "print(a)"
      ]
    },
    {
      "cell_type": "code",
      "execution_count": null,
      "metadata": {
        "id": "e0cPXl681p7H",
        "outputId": "1c0885c3-4d0f-471d-a10f-3bf170357a72"
      },
      "outputs": [
        {
          "name": "stdout",
          "output_type": "stream",
          "text": [
            "Num: 0, Square 0\n",
            "Num: 1, Square 1\n",
            "Num: 2, Square 4\n",
            "Num: 3, Square 9\n",
            "Num: 4, Square 16\n",
            "Num: 5, Square 25\n",
            "Num: 6, Square 36\n",
            "Num: 7, Square 49\n"
          ]
        }
      ],
      "source": [
        "# Распаковка при помощи цикла\n",
        "\n",
        "a = [[j, j ** 2] for j in range(8)]\n",
        "\n",
        "for num, sq in a:\n",
        "    print('Num: {}, Square {}'.format(num, sq))"
      ]
    },
    {
      "cell_type": "markdown",
      "metadata": {
        "id": "lhc4owzv1p7H"
      },
      "source": [
        "# Кортежи"
      ]
    },
    {
      "cell_type": "code",
      "execution_count": null,
      "metadata": {
        "colab": {
          "base_uri": "https://localhost:8080/"
        },
        "id": "Dg8DfX511p7H",
        "outputId": "4d249b38-e878-47a3-99bb-7c94c87d9eeb"
      },
      "outputs": [
        {
          "name": "stdout",
          "output_type": "stream",
          "text": [
            "(5, 2)\n",
            "<class 'tuple'>\n",
            "2\n"
          ]
        }
      ],
      "source": [
        "# Кортежи в функциях\n",
        "\n",
        "def find_max(x):\n",
        "    ind = 0\n",
        "    maximum = x[0]\n",
        "    for i in range(1,len(x)):\n",
        "        if x[i] > maximum:\n",
        "            maximum = x[i]\n",
        "            ind = i\n",
        "    return maximum, ind\n",
        "\n",
        "out = find_max([4,3,5])\n",
        "\n",
        "print(out)\n",
        "print(type(out))\n",
        "print(out[1])"
      ]
    },
    {
      "cell_type": "code",
      "execution_count": null,
      "metadata": {
        "colab": {
          "base_uri": "https://localhost:8080/"
        },
        "id": "TdMidygM1p7I",
        "outputId": "45473d07-35d7-43f1-d775-220d4cca897f"
      },
      "outputs": [
        {
          "name": "stdout",
          "output_type": "stream",
          "text": [
            "5 2\n"
          ]
        }
      ],
      "source": [
        "# Распаковка кортежа\n",
        "\n",
        "maximum, index = find_max([4,3,5])\n",
        "\n",
        "print(maximum, index)"
      ]
    },
    {
      "cell_type": "markdown",
      "metadata": {
        "id": "evsZOQQL1p7I"
      },
      "source": [
        "# Множества и словари"
      ]
    },
    {
      "cell_type": "code",
      "execution_count": null,
      "metadata": {
        "colab": {
          "base_uri": "https://localhost:8080/"
        },
        "id": "jt2-Xoiq1p7I",
        "outputId": "6f3f6857-4808-4600-f3de-a1aa9492628c"
      },
      "outputs": [
        {
          "name": "stdout",
          "output_type": "stream",
          "text": [
            "1\n",
            "2\n",
            "3\n",
            "4\n",
            "5\n"
          ]
        }
      ],
      "source": [
        "# Множество\n",
        "\n",
        "a = set([2,3,2,4,2,3,1,5])\n",
        "a = {2,3,2,4,2,3,1,5}\n",
        "for i in a:\n",
        "    print(i)"
      ]
    },
    {
      "cell_type": "code",
      "execution_count": null,
      "metadata": {
        "colab": {
          "base_uri": "https://localhost:8080/"
        },
        "id": "XnRJNMAk1p7I",
        "outputId": "4c37195d-cbec-4d07-9971-a8566002f683"
      },
      "outputs": [
        {
          "name": "stdout",
          "output_type": "stream",
          "text": [
            "one\n",
            "two\n",
            "1\n",
            "2\n",
            "one 1\n",
            "two 2\n"
          ]
        }
      ],
      "source": [
        "# Словарь\n",
        "\n",
        "a = {'one': 1, 'two': 2}\n",
        "for i in a:\n",
        "    print(i)\n",
        "for i in a:\n",
        "    print(a[i])\n",
        "for i, j in a.items():\n",
        "    print(i, j)"
      ]
    },
    {
      "cell_type": "code",
      "execution_count": null,
      "metadata": {
        "colab": {
          "base_uri": "https://localhost:8080/"
        },
        "id": "s2rpcPVVd4bv",
        "outputId": "9435b36b-88dd-47fd-8015-522297a09b9d"
      },
      "outputs": [
        {
          "name": "stdout",
          "output_type": "stream",
          "text": [
            "2\n"
          ]
        }
      ],
      "source": [
        "# Запись данных в словарь\n",
        "\n",
        "a = set() # Множество\n",
        "a = {} # Словарь\n",
        "\n",
        "a['one'] = 1\n",
        "a['two'] = 2\n",
        "\n",
        "print(a['two'])"
      ]
    },
    {
      "cell_type": "markdown",
      "metadata": {
        "id": "ZwCVw1SO1p7J"
      },
      "source": [
        "# NumPy"
      ]
    },
    {
      "cell_type": "code",
      "execution_count": null,
      "metadata": {
        "id": "oWndoxGZ1p7K"
      },
      "outputs": [],
      "source": [
        "# Импорт библиотеки\n",
        "\n",
        "import numpy as np"
      ]
    },
    {
      "cell_type": "code",
      "execution_count": null,
      "metadata": {
        "colab": {
          "base_uri": "https://localhost:8080/"
        },
        "id": "NAllQl7c1p7K",
        "outputId": "77d1c583-84d8-4eb4-b89c-add72669265a"
      },
      "outputs": [
        {
          "name": "stdout",
          "output_type": "stream",
          "text": [
            "[1 2 3 4]\n"
          ]
        }
      ],
      "source": [
        "# Инициализация массива из списка\n",
        "\n",
        "a = np.array([1,2,3,4], dtype = np.int64)\n",
        "\n",
        "print(a)"
      ]
    },
    {
      "cell_type": "code",
      "execution_count": null,
      "metadata": {
        "colab": {
          "base_uri": "https://localhost:8080/"
        },
        "id": "xo7hwR3J1p7K",
        "outputId": "fffb6a38-01e9-43ad-d5f3-9e3b3246b360"
      },
      "outputs": [
        {
          "name": "stdout",
          "output_type": "stream",
          "text": [
            "[[[-0.54436296 -1.57214294 -1.85219309]\n",
            "  [-0.60952477  0.21288432  0.69203515]\n",
            "  [ 0.04685732  0.91521443  1.54207153]]\n",
            "\n",
            " [[ 0.48220724  0.31434385 -1.04576149]\n",
            "  [ 1.30053354  0.49838784 -0.0700648 ]\n",
            "  [ 0.02387519  0.8192072   0.98246474]]\n",
            "\n",
            " [[-0.21850355  0.11269204 -1.47751205]\n",
            "  [ 1.90880957 -0.66721692 -0.27147248]\n",
            "  [ 1.05667682  0.0834489  -0.81494527]]]\n"
          ]
        }
      ],
      "source": [
        "# Инициализация случайного массива\n",
        "\n",
        "a = np.random.randn(3,3,3)\n",
        "\n",
        "print(a)"
      ]
    },
    {
      "cell_type": "code",
      "execution_count": null,
      "metadata": {
        "id": "tg7NTtwOE1Pm",
        "outputId": "04cb86f5-db0f-482e-f3a5-484261a41804"
      },
      "outputs": [
        {
          "name": "stdout",
          "output_type": "stream",
          "text": [
            "[[0. 0. 0. 0.]\n",
            " [0. 0. 0. 0.]\n",
            " [0. 0. 0. 0.]]\n"
          ]
        }
      ],
      "source": [
        "# Массив из нулей\n",
        "\n",
        "n=3\n",
        "m=4\n",
        "\n",
        "zeros = np.zeros((n, m))\n",
        "\n",
        "print(zeros)"
      ]
    },
    {
      "cell_type": "code",
      "execution_count": null,
      "metadata": {
        "id": "hyaB_QSPE1Pm",
        "outputId": "402d43a4-e247-4548-bb8e-68a6054c9513"
      },
      "outputs": [
        {
          "name": "stdout",
          "output_type": "stream",
          "text": [
            "[[1. 1. 1. 1.]\n",
            " [1. 1. 1. 1.]\n",
            " [1. 1. 1. 1.]]\n"
          ]
        }
      ],
      "source": [
        "# Массив из единиц\n",
        "\n",
        "n=3\n",
        "m=4\n",
        "\n",
        "ones = np.ones((n, m))\n",
        "\n",
        "print(ones)"
      ]
    },
    {
      "cell_type": "code",
      "execution_count": null,
      "metadata": {
        "colab": {
          "base_uri": "https://localhost:8080/"
        },
        "id": "uWXaEJof1p7K",
        "outputId": "56a0b72f-0b4d-4ea2-9bdb-6b8b88a9b24f"
      },
      "outputs": [
        {
          "name": "stdout",
          "output_type": "stream",
          "text": [
            "(3, 3, 3)\n",
            "3\n"
          ]
        }
      ],
      "source": [
        "# Определение размера\n",
        "\n",
        "print(a.shape)\n",
        "print(a.shape[0])"
      ]
    },
    {
      "cell_type": "code",
      "execution_count": null,
      "metadata": {
        "id": "MVDwOkyoE1Pm"
      },
      "outputs": [],
      "source": [
        "a = np.random.randn(8,3)"
      ]
    },
    {
      "cell_type": "code",
      "execution_count": null,
      "metadata": {
        "colab": {
          "base_uri": "https://localhost:8080/"
        },
        "id": "D12q77cB1p7K",
        "outputId": "0d67dc7e-1738-40d9-ce1a-f448781ad436"
      },
      "outputs": [
        {
          "name": "stdout",
          "output_type": "stream",
          "text": [
            "1.5422532373124118\n"
          ]
        }
      ],
      "source": [
        "# Операции над массивами\n",
        "\n",
        "print(a.max())"
      ]
    },
    {
      "cell_type": "code",
      "execution_count": null,
      "metadata": {
        "id": "Ym5PBr18E1Pn",
        "outputId": "cac0bbb3-c66d-4936-ba4d-6db54ce6698d"
      },
      "outputs": [
        {
          "name": "stdout",
          "output_type": "stream",
          "text": [
            "a.T:\n",
            " [[-0.93749759  1.13888663  0.29532944 -1.79864614 -1.49803314  1.35985723\n",
            "   0.30433148 -0.64273342]\n",
            " [ 0.34103715  0.35740505 -0.31412783 -0.49626596  0.20527792  0.50730801\n",
            "   0.33749944 -0.85925896]\n",
            " [ 1.54225324  0.36848966  1.20320445  1.03415991  0.55749134  0.28841494\n",
            "  -0.93129465  0.01245238]] \n",
            "\n",
            "a.reshape(6, 4):\n",
            " [[-0.93749759  0.34103715  1.54225324  1.13888663]\n",
            " [ 0.35740505  0.36848966  0.29532944 -0.31412783]\n",
            " [ 1.20320445 -1.79864614 -0.49626596  1.03415991]\n",
            " [-1.49803314  0.20527792  0.55749134  1.35985723]\n",
            " [ 0.50730801  0.28841494  0.30433148  0.33749944]\n",
            " [-0.93129465 -0.64273342 -0.85925896  0.01245238]] \n",
            "\n"
          ]
        }
      ],
      "source": [
        "# Преобразование массивов\n",
        "\n",
        "print('a.T:\\n', a.T, '\\n')\n",
        "print('a.reshape(6, 4):\\n', a.reshape(6, 4), '\\n')"
      ]
    },
    {
      "cell_type": "code",
      "execution_count": null,
      "metadata": {
        "id": "fRYYCG_cE1Pn",
        "outputId": "9850b53d-553a-4f8c-c7a9-3d7a1254285c"
      },
      "outputs": [
        {
          "name": "stdout",
          "output_type": "stream",
          "text": [
            "[[-0.93749759  0.34103715  1.54225324]\n",
            " [ 1.13888663  0.35740505  0.36848966]\n",
            " [ 0.29532944 -0.31412783  1.20320445]\n",
            " [-1.79864614 -0.49626596  1.03415991]\n",
            " [-1.49803314  0.20527792  0.55749134]\n",
            " [ 1.35985723  0.50730801  0.28841494]\n",
            " [ 0.30433148  0.33749944 -0.93129465]\n",
            " [-0.64273342 -0.85925896  0.01245238]]\n",
            "[-1.79864614 -0.85925896 -0.93129465]\n"
          ]
        }
      ],
      "source": [
        "# Параметр axis\n",
        "\n",
        "print(a)\n",
        "print(a.min(axis=0))"
      ]
    },
    {
      "cell_type": "code",
      "execution_count": null,
      "metadata": {
        "colab": {
          "base_uri": "https://localhost:8080/"
        },
        "id": "KVsXsDrV1p7K",
        "outputId": "d2fc92de-c22f-4de6-9998-866337bed41d"
      },
      "outputs": [
        {
          "name": "stdout",
          "output_type": "stream",
          "text": [
            "a[:-2]:\n",
            " [[-0.93749759  0.34103715  1.54225324]\n",
            " [ 1.13888663  0.35740505  0.36848966]\n",
            " [ 0.29532944 -0.31412783  1.20320445]\n",
            " [-1.79864614 -0.49626596  1.03415991]\n",
            " [-1.49803314  0.20527792  0.55749134]\n",
            " [ 1.35985723  0.50730801  0.28841494]] \n",
            "\n",
            "a[2, :]:\n",
            " [ 0.29532944 -0.31412783  1.20320445] \n",
            "\n",
            "a[2, 3]:\n",
            " -0.31412783353416834 \n",
            "\n"
          ]
        }
      ],
      "source": [
        "# Срезы массивов\n",
        "\n",
        "print('a[:-2]:\\n', a[:-2], '\\n')\n",
        "print('a[2, :]:\\n', a[2, :], '\\n')\n",
        "print('a[2, 3]:\\n', a[2, 1], '\\n')"
      ]
    },
    {
      "cell_type": "code",
      "execution_count": null,
      "metadata": {
        "id": "bY1gl4-vE1Pn",
        "outputId": "0ee0b967-80ba-4bcb-9d90-5f939c6922af"
      },
      "outputs": [
        {
          "name": "stdout",
          "output_type": "stream",
          "text": [
            "[[0. 0. 0.]\n",
            " [0. 0. 0.]\n",
            " [0. 0. 0.]\n",
            " [0. 0. 0.]\n",
            " [0. 0. 0.]\n",
            " [0. 0. 0.]\n",
            " [0. 0. 0.]\n",
            " [0. 0. 0.]] \n",
            "\n",
            "[[  0.   0.   0.]\n",
            " [  0.   0.   0.]\n",
            " [  0.   0.   0.]\n",
            " [  0.   0.   0.]\n",
            " [  0.   0.   0.]\n",
            " [  0.   0.   0.]\n",
            " [  0.   0. 199.]\n",
            " [  0.   0.   0.]] \n",
            "\n",
            "[[  1.   0.   0.]\n",
            " [  1.   0.   0.]\n",
            " [  1.   0.   0.]\n",
            " [  1.   0.   0.]\n",
            " [  1.   0.   0.]\n",
            " [  1.   0.   0.]\n",
            " [  1.   0. 199.]\n",
            " [  1.   0.   0.]] \n",
            "\n",
            "[[  1.   0.   0.]\n",
            " [  0.   1.   2.]\n",
            " [  3.   4.   5.]\n",
            " [  1.   0.   0.]\n",
            " [  1.   0.   0.]\n",
            " [  1.   0.   0.]\n",
            " [  1.   0. 199.]\n",
            " [  1.   0.   0.]] \n",
            "\n"
          ]
        }
      ],
      "source": [
        "# Присваивание значений элементам массивов\n",
        "a = np.zeros((8, 3))\n",
        "\n",
        "print(a, '\\n')\n",
        "\n",
        "a[6, 2] = 199\n",
        "\n",
        "print(a, '\\n')\n",
        "\n",
        "a[:, 0] = 1\n",
        "\n",
        "print(a, '\\n')\n",
        "\n",
        "a[1:3, :] = np.arange(6).reshape(2, 3)\n",
        "\n",
        "print(a, '\\n')"
      ]
    },
    {
      "cell_type": "code",
      "execution_count": null,
      "metadata": {
        "colab": {
          "base_uri": "https://localhost:8080/"
        },
        "id": "GQTeyaBF1p7K",
        "outputId": "0ee64c82-9355-488c-82ce-3ce6fa398f1d"
      },
      "outputs": [
        {
          "name": "stdout",
          "output_type": "stream",
          "text": [
            "a:\n",
            " [[2.         0.35689812]\n",
            " [1.57750711 0.36295136]] \n",
            "\n",
            "b:\n",
            " [[ 2.         -2.43737288]\n",
            " [-0.37289564  0.11855134]] \n",
            "\n",
            "np.add(a, b):\n",
            " [[ 4.         -2.08047476]\n",
            " [ 1.20461146  0.4815027 ]] \n",
            "\n",
            "a + b:\n",
            " [[ 4.         -2.08047476]\n",
            " [ 1.20461146  0.4815027 ]] \n",
            "\n",
            "a + b:\n",
            " [[0.         2.79427101]\n",
            " [1.95040275 0.24440003]] \n",
            "\n",
            "a + b:\n",
            " [[ 4.         -0.86989381]\n",
            " [-0.58824553  0.04302837]] \n",
            "\n",
            "a + b:\n",
            " [[ 1.         -0.14642738]\n",
            " [-4.23042514  3.06155439]] \n",
            "\n",
            "b == a:\n",
            " [[ True False]\n",
            " [False False]] \n",
            "\n"
          ]
        }
      ],
      "source": [
        "# Операции с несколькими массивами\n",
        "\n",
        "a = np.random.randn(2,2)\n",
        "b = np.random.randn(2,2)\n",
        "a[0, 0], b[0, 0] = 2, 2\n",
        "\n",
        "print(f'a:\\n', a, '\\n')\n",
        "print(f'b:\\n', b, '\\n')\n",
        "print(f'np.add(a, b):\\n', np.add(a, b), '\\n')\n",
        "print(f'a + b:\\n', a + b, '\\n')\n",
        "print(f'a + b:\\n', a - b, '\\n')\n",
        "print(f'a + b:\\n', a * b, '\\n')\n",
        "print(f'a + b:\\n', a / b, '\\n')\n",
        "print(f'b == a:\\n', b == a, '\\n')\n"
      ]
    },
    {
      "cell_type": "code",
      "execution_count": null,
      "metadata": {
        "colab": {
          "base_uri": "https://localhost:8080/"
        },
        "id": "xwtAfylI1p7L",
        "outputId": "822fde66-30a2-4ed5-d397-46c0645098c1"
      },
      "outputs": [
        {
          "name": "stdout",
          "output_type": "stream",
          "text": [
            "a -\n",
            "[[-0.02178999 -0.41581447  0.50498313]\n",
            " [-1.94758571  0.90575059 -1.00713257]\n",
            " [-0.8799044   0.36709013  0.78015329]\n",
            " [-1.49650655 -0.40453389 -0.02859049]\n",
            " [ 0.17757828  1.2984159   0.45245721]]\n",
            "b -\n",
            "[[ 0.65494858  0.98821226  0.62950811  1.21843212]\n",
            " [-0.67626102  1.31411786 -0.44190265 -1.32707044]\n",
            " [ 0.45472372  1.35665007  0.89265257 -1.09106566]]\n",
            "c -\n",
            "[[ 0.49655561  0.11712305  0.62080703 -0.02570428]\n",
            " [-2.34605939 -2.10069153 -2.52529406 -2.47614806]\n",
            " [-0.46978668  0.6712624  -0.01971921 -2.41045672]\n",
            " [-0.71956512 -2.04925862 -0.78881978 -1.25535257]\n",
            " [-0.55602039  2.49558266 -0.05809937 -2.00038281]]\n",
            "size of c -\n",
            "(5, 4)\n"
          ]
        }
      ],
      "source": [
        "# Матричное умножение\n",
        "\n",
        "a = np.random.randn(5,3)\n",
        "b = np.random.randn(3,4)\n",
        "\n",
        "c = np.matmul(a, b)\n",
        "\n",
        "print(f'a -\\n{a}')\n",
        "print(f'b -\\n{b}')\n",
        "print(f'c -\\n{c}')\n",
        "print(f'size of c -\\n{c.shape}')"
      ]
    },
    {
      "cell_type": "code",
      "execution_count": null,
      "metadata": {
        "id": "DPIX0fhfE1Po",
        "outputId": "e5560327-bede-4b54-eb50-1336eb898dd7"
      },
      "outputs": [
        {
          "name": "stdout",
          "output_type": "stream",
          "text": [
            "a -\n",
            "[[-0.5751258  -0.17943328  0.93493331]\n",
            " [ 0.00995786  1.24329227 -2.2230889 ]\n",
            " [-0.11257146 -0.63750228 -0.90472722]\n",
            " [-0.62446233 -0.18529723  0.05672821]\n",
            " [ 0.28855979  1.40907372 -0.00744909]]\n",
            "b -\n",
            "[[ 0.77731914  0.20281207 -0.71352756 -2.39345152]\n",
            " [-0.28864306 -2.30864041 -1.63349146 -0.22193592]\n",
            " [ 1.14208797 -0.02998347  1.8082168  -0.3348012 ]]\n",
            "c -\n",
            "[[ 0.67251197  0.26957192  2.39403296  1.10334161]\n",
            " [-2.89009033 -2.8016393  -6.05783921  0.44452797]\n",
            " [-0.93677142  1.47605953 -0.5142656   0.71382275]\n",
            " [-0.36713315  0.29943526  0.85082941  1.51675174]\n",
            " [-0.19092382 -3.19429778 -2.52107482 -1.00088397]]\n",
            "size of c -\n",
            "(5, 4)\n"
          ]
        }
      ],
      "source": [
        "# Матричное умножение\n",
        "\n",
        "a = np.random.randn(5,3)\n",
        "b = np.random.randn(3,4)\n",
        "\n",
        "c = np.matmul(a, b)\n",
        "\n",
        "print(f'a -\\n{a}')\n",
        "print(f'b -\\n{b}')\n",
        "print(f'c -\\n{c}')\n",
        "print(f'size of c -\\n{c.shape}')"
      ]
    },
    {
      "cell_type": "code",
      "execution_count": null,
      "metadata": {
        "colab": {
          "base_uri": "https://localhost:8080/"
        },
        "id": "POpWlQRmkZVp",
        "outputId": "1dfdcd28-c02b-49fa-c9f7-d806b7e39eda"
      },
      "outputs": [
        {
          "name": "stdout",
          "output_type": "stream",
          "text": [
            "a:\n",
            " [0 0 1 2 0 1] \n",
            "\n",
            "b:\n",
            " [[ 0.87377794 -0.15738863  0.04872587]\n",
            " [-0.09135763 -0.51647705 -0.1343405 ]\n",
            " [-0.07632581  0.90210662 -0.35006274]\n",
            " [-0.80514175 -1.41306837 -0.37220271]\n",
            " [-0.73802132  0.02577906 -1.27269611]\n",
            " [-0.07372276  1.08328711 -0.12457402]] \n",
            "\n",
            "a == 0: \n",
            " [ True  True False False  True False] \n",
            "\n",
            "b[a == 0]: \n",
            " [[ 0.87377794 -0.15738863  0.04872587]\n",
            " [-0.09135763 -0.51647705 -0.1343405 ]\n",
            " [-0.73802132  0.02577906 -1.27269611]] \n",
            "\n",
            "b[a == 0, 1]: \n",
            " [-0.15738863 -0.51647705  0.02577906] \n",
            "\n",
            "(a == 0).sum(): \n",
            " 3 \n",
            "\n",
            "(b > 0).sum(): \n",
            " 3 \n",
            "\n"
          ]
        }
      ],
      "source": [
        "# Булева индексация\n",
        "\n",
        "a = np.array([0, 0, 1, 2, 0, 1])\n",
        "b = np.random.randn(6, 3)\n",
        "print('a:\\n', a, '\\n')\n",
        "print('b:\\n', b, '\\n')\n",
        "print('a == 0: \\n', a == 0, '\\n')\n",
        "print('b[a == 0]: \\n', b[a == 0], '\\n')\n",
        "print('b[a == 0, 1]: \\n', b[a == 0, 1], '\\n')\n",
        "print('(a == 0).sum(): \\n', (a == 0).sum(), '\\n')\n",
        "print('(b > 0).sum(): \\n', (a == 0).sum(), '\\n')"
      ]
    },
    {
      "cell_type": "code",
      "execution_count": null,
      "metadata": {
        "id": "rbeCf5JUE1Po",
        "outputId": "0a6e00b3-8ebe-4e2c-f625-ec08434d0ed1"
      },
      "outputs": [
        {
          "data": {
            "text/plain": [
              "array([[ 1.,  2.,  3.],\n",
              "       [11., 12., 13.],\n",
              "       [21., 22., 23.],\n",
              "       [31., 32., 33.]])"
            ]
          },
          "execution_count": 56,
          "metadata": {},
          "output_type": "execute_result"
        }
      ],
      "source": [
        "# Broadcasting\n",
        "\n",
        "a = np.array([[ 0.0,  0.0,  0.0],\n",
        "              [10.0, 10.0, 10.0],\n",
        "              [20.0, 20.0, 20.0],\n",
        "              [30.0, 30.0, 30.0]])\n",
        "b = np.array([1.0, 2.0, 3.0])\n",
        "\n",
        "a + b"
      ]
    },
    {
      "cell_type": "markdown",
      "metadata": {
        "id": "Eze7xe--E1Po"
      },
      "source": [
        "![image.png](attachment:image.png)"
      ]
    },
    {
      "cell_type": "code",
      "execution_count": null,
      "metadata": {
        "id": "CFzSIO3BE1Po",
        "outputId": "75b15c6a-a050-4f18-81c9-47ae9c385ddd"
      },
      "outputs": [
        {
          "ename": "ValueError",
          "evalue": "operands could not be broadcast together with shapes (4,3) (4,) ",
          "output_type": "error",
          "traceback": [
            "\u001b[1;31m---------------------------------------------------------------------------\u001b[0m",
            "\u001b[1;31mValueError\u001b[0m                                Traceback (most recent call last)",
            "Cell \u001b[1;32mIn[57], line 2\u001b[0m\n\u001b[0;32m      1\u001b[0m b \u001b[38;5;241m=\u001b[39m np\u001b[38;5;241m.\u001b[39marray([\u001b[38;5;241m1.0\u001b[39m, \u001b[38;5;241m2.0\u001b[39m, \u001b[38;5;241m3.0\u001b[39m, \u001b[38;5;241m4.0\u001b[39m])\n\u001b[1;32m----> 2\u001b[0m \u001b[43ma\u001b[49m\u001b[43m \u001b[49m\u001b[38;5;241;43m+\u001b[39;49m\u001b[43m \u001b[49m\u001b[43mb\u001b[49m\n",
            "\u001b[1;31mValueError\u001b[0m: operands could not be broadcast together with shapes (4,3) (4,) "
          ]
        }
      ],
      "source": [
        "b = np.array([1.0, 2.0, 3.0, 4.0])\n",
        "a + b"
      ]
    },
    {
      "cell_type": "markdown",
      "metadata": {
        "id": "C37h7RKuE1Pp"
      },
      "source": [
        "![image-2.png](attachment:image-2.png)"
      ]
    },
    {
      "cell_type": "code",
      "execution_count": null,
      "metadata": {
        "id": "7NWHol2TE1Pp",
        "outputId": "b2e9de90-adcd-4db9-8da2-28c87a10e0ba"
      },
      "outputs": [
        {
          "name": "stdout",
          "output_type": "stream",
          "text": [
            "int32\n",
            "float32\n",
            "float64\n"
          ]
        }
      ],
      "source": [
        "# Приведение к нужному типу данных\n",
        "\n",
        "a = np.array([1, 2, 3])\n",
        "\n",
        "print(a.dtype)\n",
        "\n",
        "b = a.copy().astype(np.float32)\n",
        "\n",
        "print(b.dtype)\n",
        "\n",
        "c = np.array([1, 2, 3], dtype=np.float64)\n",
        "\n",
        "print(c.dtype)"
      ]
    },
    {
      "cell_type": "code",
      "execution_count": null,
      "metadata": {
        "id": "benxhng0E1Pp",
        "outputId": "7cdefb81-ef77-40f9-fb18-c387db426481"
      },
      "outputs": [
        {
          "name": "stdout",
          "output_type": "stream",
          "text": [
            "[[ 2.29576101  0.74066566 -0.08073906  0.69688215  2.49433694]\n",
            " [-0.61342542 -0.05813868  0.14612795  0.33675703  0.02137026]\n",
            " [ 1.0045555   1.19767996 -1.88477138  0.88161808 -0.17615926]] \n",
            "\n",
            "Элемент a[0, 0]\n",
            "2.2957610069007663\n",
            "Элемент a[0, 1]\n",
            "0.740665659671176\n",
            "Элемент a[0, 2]\n",
            "-0.08073905970932324\n",
            "Элемент a[0, 3]\n",
            "0.6968821515322128\n",
            "Элемент a[0, 4]\n",
            "2.494336937279292\n",
            "Элемент a[1, 0]\n",
            "-0.6134254206656196\n",
            "Элемент a[1, 1]\n",
            "-0.05813867579096051\n",
            "Элемент a[1, 2]\n",
            "0.146127945784934\n",
            "Элемент a[1, 3]\n",
            "0.3367570257091669\n",
            "Элемент a[1, 4]\n",
            "0.021370261721521767\n",
            "Элемент a[2, 0]\n",
            "1.0045555004259077\n",
            "Элемент a[2, 1]\n",
            "1.1976799554697035\n",
            "Элемент a[2, 2]\n",
            "-1.8847713786348796\n",
            "Элемент a[2, 3]\n",
            "0.8816180830022339\n",
            "Элемент a[2, 4]\n",
            "-0.17615925607255797\n"
          ]
        }
      ],
      "source": [
        "# Перебор элементов двумерного массива\n",
        "\n",
        "a = np.random.randn(3, 5)\n",
        "\n",
        "print(a, '\\n')\n",
        "\n",
        "for i in range(a.shape[0]):\n",
        "    for j in range(a.shape[1]):\n",
        "        print(f'Элемент a[{i}, {j}]')\n",
        "        print(a[i, j])"
      ]
    },
    {
      "cell_type": "code",
      "execution_count": null,
      "metadata": {
        "id": "Ee9_khoAE1Pp",
        "outputId": "b8a699ba-b87c-45ff-de86-9f41f9c69b57"
      },
      "outputs": [
        {
          "name": "stdout",
          "output_type": "stream",
          "text": [
            "[0.5 0.6 0.7 0.8 0.9 1.  1.1 1.2 1.3 1.4 1.5 1.6 1.7 1.8 1.9 2.  2.1 2.2\n",
            " 2.3 2.4]\n",
            "[0.5        0.52020202 0.54040404 0.56060606 0.58080808 0.6010101\n",
            " 0.62121212 0.64141414 0.66161616 0.68181818 0.7020202  0.72222222\n",
            " 0.74242424 0.76262626 0.78282828 0.8030303  0.82323232 0.84343434\n",
            " 0.86363636 0.88383838 0.9040404  0.92424242 0.94444444 0.96464646\n",
            " 0.98484848 1.00505051 1.02525253 1.04545455 1.06565657 1.08585859\n",
            " 1.10606061 1.12626263 1.14646465 1.16666667 1.18686869 1.20707071\n",
            " 1.22727273 1.24747475 1.26767677 1.28787879 1.30808081 1.32828283\n",
            " 1.34848485 1.36868687 1.38888889 1.40909091 1.42929293 1.44949495\n",
            " 1.46969697 1.48989899 1.51010101 1.53030303 1.55050505 1.57070707\n",
            " 1.59090909 1.61111111 1.63131313 1.65151515 1.67171717 1.69191919\n",
            " 1.71212121 1.73232323 1.75252525 1.77272727 1.79292929 1.81313131\n",
            " 1.83333333 1.85353535 1.87373737 1.89393939 1.91414141 1.93434343\n",
            " 1.95454545 1.97474747 1.99494949 2.01515152 2.03535354 2.05555556\n",
            " 2.07575758 2.0959596  2.11616162 2.13636364 2.15656566 2.17676768\n",
            " 2.1969697  2.21717172 2.23737374 2.25757576 2.27777778 2.2979798\n",
            " 2.31818182 2.33838384 2.35858586 2.37878788 2.3989899  2.41919192\n",
            " 2.43939394 2.45959596 2.47979798 2.5       ]\n"
          ]
        }
      ],
      "source": [
        "# Генераторы\n",
        "\n",
        "a = np.arange(0.5, 2.5, 0.1) # start, stop, step\n",
        "\n",
        "print(a)\n",
        "\n",
        "b = np.linspace(0.5, 2.5, 100) # start, stop, num\n",
        "\n",
        "print(b)"
      ]
    },
    {
      "cell_type": "code",
      "execution_count": null,
      "metadata": {
        "id": "5zT5Z3oVE1Pp",
        "outputId": "862c0748-3b50-452c-a524-0034e8360827"
      },
      "outputs": [
        {
          "name": "stdout",
          "output_type": "stream",
          "text": [
            "[[[ 0.18766252 -0.24832797  0.84095651]\n",
            "  [-0.55416241  0.16798401 -1.12811547]\n",
            "  [ 0.28434213  0.83843991  0.3680737 ]]\n",
            "\n",
            " [[-1.97320779 -0.21994804 -0.42537715]\n",
            "  [-0.82956756 -1.06434363  1.74964592]\n",
            "  [ 0.44162888  0.12576936 -0.22253865]]\n",
            "\n",
            " [[ 1.7450308   0.33614305 -2.10033211]\n",
            "  [ 0.90597428 -0.15130358  0.70540289]\n",
            "  [ 1.23020495 -1.55569792 -0.33099116]]] \n",
            "\n",
            "9 \n",
            "\n",
            "[[[0.83464946 0.75859266 0.38273485]\n",
            "  [0.3824049  0.51101071 0.85566311]\n",
            "  [0.01748808 0.56226798 0.24154795]]\n",
            "\n",
            " [[0.90209306 0.25492207 0.08233338]\n",
            "  [0.4468618  0.69756755 0.23109549]\n",
            "  [0.15358852 0.76560288 0.44862007]]\n",
            "\n",
            " [[0.35875713 0.07971633 0.1936979 ]\n",
            "  [0.73958546 0.77018404 0.7535891 ]\n",
            "  [0.87261526 0.85335397 0.81961144]]]\n"
          ]
        }
      ],
      "source": [
        "# Модуль random\n",
        "\n",
        "a = np.random.randn(3, 3, 3) # Массив заполненный случайными значениями в нормальном распределении\n",
        "\n",
        "print(a, '\\n')\n",
        "\n",
        "print(np.random.randint(5, 10), '\\n') # Случайное целое число\n",
        "\n",
        "b = np.random.rand(3, 3, 3) # Массив заполненный случайными значениями в диапазоне от 0 до 1\n",
        "\n",
        "print(b)"
      ]
    },
    {
      "cell_type": "markdown",
      "metadata": {
        "id": "1ziivfY8j_39"
      },
      "source": [
        "# MatplotLib"
      ]
    },
    {
      "cell_type": "code",
      "execution_count": null,
      "metadata": {
        "colab": {
          "base_uri": "https://localhost:8080/",
          "height": 396
        },
        "id": "39FpgjJkBGw_",
        "outputId": "a2e0109f-c013-43e5-e3b1-ded55896af64"
      },
      "outputs": [
        {
          "data": {
            "image/png": "[encoded data removed]",
            "text/plain": [
              "<Figure size 2000x1000 with 1 Axes>"
            ]
          },
          "metadata": {},
          "output_type": "display_data"
        }
      ],
      "source": [
        "# График кривой\n",
        "\n",
        "from matplotlib import pyplot as plt\n",
        "\n",
        "x = np.linspace(0, 10, 50)\n",
        "y1 = np.random.randn(50)\n",
        "y2 = np.random.randn(50)\n",
        "\n",
        "fig, ax = plt.subplots(figsize=(20, 10))\n",
        "\n",
        "ax.plot(x, y1, c='r')\n",
        "ax.plot(x, y2, c='g')\n",
        "ax.set_title('Ttile')\n",
        "ax.set_xlabel('x label')\n",
        "ax.set_ylabel('y label')\n",
        "ax.legend(['y1', 'y2'])\n",
        "plt.show()"
      ]
    },
    {
      "cell_type": "code",
      "execution_count": null,
      "metadata": {
        "colab": {
          "base_uri": "https://localhost:8080/",
          "height": 621
        },
        "id": "nDPJz21BCMpx",
        "outputId": "049731a1-76e5-46b7-d18d-a34176bdd6e0"
      },
      "outputs": [
        {
          "data": {
            "image/png": "[encoded data removed]",
            "text/plain": [
              "<Figure size 1000x1000 with 1 Axes>"
            ]
          },
          "metadata": {},
          "output_type": "display_data"
        }
      ],
      "source": [
        "# График разброса\n",
        "\n",
        "x1 = np.random.randn(50)\n",
        "y1 = np.random.randn(50)\n",
        "\n",
        "x2 = np.random.randn(50) + 5\n",
        "y2 = np.random.randn(50) - 5\n",
        "\n",
        "fig, ax = plt.subplots(figsize=(10, 10))\n",
        "\n",
        "ax.scatter(x1, y1, c='r')\n",
        "ax.scatter(x2, y2, c='g')\n",
        "ax.set_title('Ttile')\n",
        "ax.set_xlabel('x label')\n",
        "ax.set_ylabel('y label')\n",
        "ax.legend(['y1', 'y2'])\n",
        "plt.show()"
      ]
    },
    {
      "cell_type": "code",
      "execution_count": null,
      "metadata": {
        "colab": {
          "base_uri": "https://localhost:8080/",
          "height": 621
        },
        "id": "PsQ7jJNQDzG3",
        "outputId": "0c031628-b79a-4f49-c47f-2daca6c1bd0c"
      },
      "outputs": [
        {
          "data": {
            "image/png": "[encoded data removed]",
            "text/plain": [
              "<Figure size 1000x1000 with 4 Axes>"
            ]
          },
          "metadata": {},
          "output_type": "display_data"
        }
      ],
      "source": [
        "# Вывод несколько графиков\n",
        "\n",
        "fig, ax = plt.subplots(figsize=(10, 10), ncols=2, nrows=2)\n",
        "\n",
        "for i in range(2):\n",
        "    for j in range(2):\n",
        "        x = np.random.randn(50)\n",
        "        y = np.random.randn(50)\n",
        "        ax[i, j].scatter(x, y, c='r')\n",
        "        ax[i, j].set_title(f'row {i}, col {j}')\n",
        "        ax[i, j].set_xlabel('x label')\n",
        "        ax[i, j].set_ylabel('y label')\n",
        "        ax[i, j].legend(['y1', 'y2'])\n",
        "\n",
        "plt.subplots_adjust(left=None, bottom=None, right=None, top=None, wspace=None, hspace=None)\n",
        "\n",
        "# left float, optional\n",
        "# The position of the left edge of the subplots, as a fraction of the figure width.\n",
        "\n",
        "# right float, optional\n",
        "# The position of the right edge of the subplots, as a fraction of the figure width.\n",
        "\n",
        "# bottom float, optional\n",
        "# The position of the bottom edge of the subplots, as a fraction of the figure height.\n",
        "\n",
        "# top float, optional\n",
        "# The position of the top edge of the subplots, as a fraction of the figure height.\n",
        "\n",
        "# wspace float, optional\n",
        "# The width of the padding between subplots, as a fraction of the average Axes width.\n",
        "\n",
        "# hspace float, optional\n",
        "# The height of the padding between subplots, as a fraction of the average Axes height.\n",
        "\n",
        "plt.show()"
      ]
    },
    {
      "cell_type": "code",
      "execution_count": null,
      "metadata": {
        "colab": {
          "base_uri": "https://localhost:8080/",
          "height": 350
        },
        "id": "zTDPxj6gVjNq",
        "outputId": "907634f9-4f67-4b1d-a39b-29526ac3d1bc"
      },
      "outputs": [
        {
          "data": {
            "image/png": "[encoded data removed]",
            "text/plain": [
              "<Figure size 1000x500 with 2 Axes>"
            ]
          },
          "metadata": {},
          "output_type": "display_data"
        }
      ],
      "source": [
        "# Вывод несколько графиков\n",
        "\n",
        "fig, ax = plt.subplots(figsize=(10, 5), ncols=2)\n",
        "\n",
        "for i in range(2):\n",
        "        x = np.random.randn(50)\n",
        "        y = np.random.randn(50)\n",
        "        ax[i].scatter(x, y, c='r')\n",
        "        ax[i].set_title(f'row {i}, col {j}')\n",
        "        ax[i].set_xlabel('x label')\n",
        "        ax[i].set_ylabel('y label')\n",
        "        ax[i].legend(['y1', 'y2'])\n",
        "\n",
        "plt.subplots_adjust(left=None, bottom=None, right=None, top=None, wspace=None, hspace=None)\n",
        "\n",
        "# left float, optional\n",
        "# The position of the left edge of the subplots, as a fraction of the figure width.\n",
        "\n",
        "# right float, optional\n",
        "# The position of the right edge of the subplots, as a fraction of the figure width.\n",
        "\n",
        "# bottom float, optional\n",
        "# The position of the bottom edge of the subplots, as a fraction of the figure height.\n",
        "\n",
        "# top float, optional\n",
        "# The position of the top edge of the subplots, as a fraction of the figure height.\n",
        "\n",
        "# wspace float, optional\n",
        "# The width of the padding between subplots, as a fraction of the average Axes width.\n",
        "\n",
        "# hspace float, optional\n",
        "# The height of the padding between subplots, as a fraction of the average Axes height.\n",
        "\n",
        "plt.show()"
      ]
    },
    {
      "cell_type": "code",
      "source": [
        "import numpy as np\n",
        "import pandas as pd\n",
        "\n",
        "np.random.seed(42)\n",
        "\n",
        "# Создаем искусственные данные о продажах автомобилей\n",
        "data = {'Toyota': np.random.normal(loc=150, scale=25, size=24),\n",
        "        'Honda': np.random.normal(loc=130, scale=20, size=24),\n",
        "        'Ford': np.random.normal(loc=100, scale=30, size=24),\n",
        "        'BMW': np.random.normal(loc=80, scale=15, size=24),\n",
        "        'Tesla': np.random.normal(loc=90, scale=20, size=24)}\n",
        "# Добавляем выбросы\n",
        "data['Ford'][0] = 20.1\n",
        "data['Ford'][1] = 30.312\n",
        "data['Tesla'][1] = 150.112\n",
        "\n",
        "# Создаем DataFrame\n",
        "data = pd.DataFrame(data)\n",
        "data.head()\n"
      ],
      "metadata": {
        "id": "hNvOQixaFKFB",
        "outputId": "3db58f52-4a07-4731-d430-6fe9827be494",
        "colab": {
          "base_uri": "https://localhost:8080/",
          "height": 206
        }
      },
      "execution_count": 30,
      "outputs": [
        {
          "output_type": "execute_result",
          "data": {
            "text/plain": [
              "       Toyota       Honda        Ford         BMW       Tesla\n",
              "0  162.417854  119.112346   20.100000   79.462609   95.922406\n",
              "1  146.543392  132.218452   30.312000  103.469655  150.112000\n",
              "2  166.192213  106.980128  109.722519   40.703823   90.102269\n",
              "3  188.075746  137.513960   88.447532   92.328538   85.308257\n",
              "4  144.146166  117.987226   79.692340   81.305706   61.692585"
            ],
            "text/html": [
              "\n",
              "  <div id=\"df-8c4a3aad-0758-43b3-80a4-c19445b5a15c\" class=\"colab-df-container\">\n",
              "    <div>\n",
              "<style scoped>\n",
              "    .dataframe tbody tr th:only-of-type {\n",
              "        vertical-align: middle;\n",
              "    }\n",
              "\n",
              "    .dataframe tbody tr th {\n",
              "        vertical-align: top;\n",
              "    }\n",
              "\n",
              "    .dataframe thead th {\n",
              "        text-align: right;\n",
              "    }\n",
              "</style>\n",
              "<table border=\"1\" class=\"dataframe\">\n",
              "  <thead>\n",
              "    <tr style=\"text-align: right;\">\n",
              "      <th></th>\n",
              "      <th>Toyota</th>\n",
              "      <th>Honda</th>\n",
              "      <th>Ford</th>\n",
              "      <th>BMW</th>\n",
              "      <th>Tesla</th>\n",
              "    </tr>\n",
              "  </thead>\n",
              "  <tbody>\n",
              "    <tr>\n",
              "      <th>0</th>\n",
              "      <td>162.417854</td>\n",
              "      <td>119.112346</td>\n",
              "      <td>20.100000</td>\n",
              "      <td>79.462609</td>\n",
              "      <td>95.922406</td>\n",
              "    </tr>\n",
              "    <tr>\n",
              "      <th>1</th>\n",
              "      <td>146.543392</td>\n",
              "      <td>132.218452</td>\n",
              "      <td>30.312000</td>\n",
              "      <td>103.469655</td>\n",
              "      <td>150.112000</td>\n",
              "    </tr>\n",
              "    <tr>\n",
              "      <th>2</th>\n",
              "      <td>166.192213</td>\n",
              "      <td>106.980128</td>\n",
              "      <td>109.722519</td>\n",
              "      <td>40.703823</td>\n",
              "      <td>90.102269</td>\n",
              "    </tr>\n",
              "    <tr>\n",
              "      <th>3</th>\n",
              "      <td>188.075746</td>\n",
              "      <td>137.513960</td>\n",
              "      <td>88.447532</td>\n",
              "      <td>92.328538</td>\n",
              "      <td>85.308257</td>\n",
              "    </tr>\n",
              "    <tr>\n",
              "      <th>4</th>\n",
              "      <td>144.146166</td>\n",
              "      <td>117.987226</td>\n",
              "      <td>79.692340</td>\n",
              "      <td>81.305706</td>\n",
              "      <td>61.692585</td>\n",
              "    </tr>\n",
              "  </tbody>\n",
              "</table>\n",
              "</div>\n",
              "    <div class=\"colab-df-buttons\">\n",
              "\n",
              "  <div class=\"colab-df-container\">\n",
              "    <button class=\"colab-df-convert\" onclick=\"convertToInteractive('df-8c4a3aad-0758-43b3-80a4-c19445b5a15c')\"\n",
              "            title=\"Convert this dataframe to an interactive table.\"\n",
              "            style=\"display:none;\">\n",
              "\n",
              "  <svg xmlns=\"http://www.w3.org/2000/svg\" height=\"24px\" viewBox=\"0 -960 960 960\">\n",
              "    <path d=\"M120-120v-720h720v720H120Zm60-500h600v-160H180v160Zm220 220h160v-160H400v160Zm0 220h160v-160H400v160ZM180-400h160v-160H180v160Zm440 0h160v-160H620v160ZM180-180h160v-160H180v160Zm440 0h160v-160H620v160Z\"/>\n",
              "  </svg>\n",
              "    </button>\n",
              "\n",
              "  <style>\n",
              "    .colab-df-container {\n",
              "      display:flex;\n",
              "      gap: 12px;\n",
              "    }\n",
              "\n",
              "    .colab-df-convert {\n",
              "      background-color: #E8F0FE;\n",
              "      border: none;\n",
              "      border-radius: 50%;\n",
              "      cursor: pointer;\n",
              "      display: none;\n",
              "      fill: #1967D2;\n",
              "      height: 32px;\n",
              "      padding: 0 0 0 0;\n",
              "      width: 32px;\n",
              "    }\n",
              "\n",
              "    .colab-df-convert:hover {\n",
              "      background-color: #E2EBFA;\n",
              "      box-shadow: 0px 1px 2px rgba(60, 64, 67, 0.3), 0px 1px 3px 1px rgba(60, 64, 67, 0.15);\n",
              "      fill: #174EA6;\n",
              "    }\n",
              "\n",
              "    .colab-df-buttons div {\n",
              "      margin-bottom: 4px;\n",
              "    }\n",
              "\n",
              "    [theme=dark] .colab-df-convert {\n",
              "      background-color: #3B4455;\n",
              "      fill: #D2E3FC;\n",
              "    }\n",
              "\n",
              "    [theme=dark] .colab-df-convert:hover {\n",
              "      background-color: #434B5C;\n",
              "      box-shadow: 0px 1px 3px 1px rgba(0, 0, 0, 0.15);\n",
              "      filter: drop-shadow(0px 1px 2px rgba(0, 0, 0, 0.3));\n",
              "      fill: #FFFFFF;\n",
              "    }\n",
              "  </style>\n",
              "\n",
              "    <script>\n",
              "      const buttonEl =\n",
              "        document.querySelector('#df-8c4a3aad-0758-43b3-80a4-c19445b5a15c button.colab-df-convert');\n",
              "      buttonEl.style.display =\n",
              "        google.colab.kernel.accessAllowed ? 'block' : 'none';\n",
              "\n",
              "      async function convertToInteractive(key) {\n",
              "        const element = document.querySelector('#df-8c4a3aad-0758-43b3-80a4-c19445b5a15c');\n",
              "        const dataTable =\n",
              "          await google.colab.kernel.invokeFunction('convertToInteractive',\n",
              "                                                    [key], {});\n",
              "        if (!dataTable) return;\n",
              "\n",
              "        const docLinkHtml = 'Like what you see? Visit the ' +\n",
              "          '<a target=\"_blank\" href=https://colab.research.google.com/notebooks/data_table.ipynb>data table notebook</a>'\n",
              "          + ' to learn more about interactive tables.';\n",
              "        element.innerHTML = '';\n",
              "        dataTable['output_type'] = 'display_data';\n",
              "        await google.colab.output.renderOutput(dataTable, element);\n",
              "        const docLink = document.createElement('div');\n",
              "        docLink.innerHTML = docLinkHtml;\n",
              "        element.appendChild(docLink);\n",
              "      }\n",
              "    </script>\n",
              "  </div>\n",
              "\n",
              "\n",
              "<div id=\"df-069a4760-5c0e-4dec-a2cf-dad0dab1eea0\">\n",
              "  <button class=\"colab-df-quickchart\" onclick=\"quickchart('df-069a4760-5c0e-4dec-a2cf-dad0dab1eea0')\"\n",
              "            title=\"Suggest charts\"\n",
              "            style=\"display:none;\">\n",
              "\n",
              "<svg xmlns=\"http://www.w3.org/2000/svg\" height=\"24px\"viewBox=\"0 0 24 24\"\n",
              "     width=\"24px\">\n",
              "    <g>\n",
              "        <path d=\"M19 3H5c-1.1 0-2 .9-2 2v14c0 1.1.9 2 2 2h14c1.1 0 2-.9 2-2V5c0-1.1-.9-2-2-2zM9 17H7v-7h2v7zm4 0h-2V7h2v10zm4 0h-2v-4h2v4z\"/>\n",
              "    </g>\n",
              "</svg>\n",
              "  </button>\n",
              "\n",
              "<style>\n",
              "  .colab-df-quickchart {\n",
              "      --bg-color: #E8F0FE;\n",
              "      --fill-color: #1967D2;\n",
              "      --hover-bg-color: #E2EBFA;\n",
              "      --hover-fill-color: #174EA6;\n",
              "      --disabled-fill-color: #AAA;\n",
              "      --disabled-bg-color: #DDD;\n",
              "  }\n",
              "\n",
              "  [theme=dark] .colab-df-quickchart {\n",
              "      --bg-color: #3B4455;\n",
              "      --fill-color: #D2E3FC;\n",
              "      --hover-bg-color: #434B5C;\n",
              "      --hover-fill-color: #FFFFFF;\n",
              "      --disabled-bg-color: #3B4455;\n",
              "      --disabled-fill-color: #666;\n",
              "  }\n",
              "\n",
              "  .colab-df-quickchart {\n",
              "    background-color: var(--bg-color);\n",
              "    border: none;\n",
              "    border-radius: 50%;\n",
              "    cursor: pointer;\n",
              "    display: none;\n",
              "    fill: var(--fill-color);\n",
              "    height: 32px;\n",
              "    padding: 0;\n",
              "    width: 32px;\n",
              "  }\n",
              "\n",
              "  .colab-df-quickchart:hover {\n",
              "    background-color: var(--hover-bg-color);\n",
              "    box-shadow: 0 1px 2px rgba(60, 64, 67, 0.3), 0 1px 3px 1px rgba(60, 64, 67, 0.15);\n",
              "    fill: var(--button-hover-fill-color);\n",
              "  }\n",
              "\n",
              "  .colab-df-quickchart-complete:disabled,\n",
              "  .colab-df-quickchart-complete:disabled:hover {\n",
              "    background-color: var(--disabled-bg-color);\n",
              "    fill: var(--disabled-fill-color);\n",
              "    box-shadow: none;\n",
              "  }\n",
              "\n",
              "  .colab-df-spinner {\n",
              "    border: 2px solid var(--fill-color);\n",
              "    border-color: transparent;\n",
              "    border-bottom-color: var(--fill-color);\n",
              "    animation:\n",
              "      spin 1s steps(1) infinite;\n",
              "  }\n",
              "\n",
              "  @keyframes spin {\n",
              "    0% {\n",
              "      border-color: transparent;\n",
              "      border-bottom-color: var(--fill-color);\n",
              "      border-left-color: var(--fill-color);\n",
              "    }\n",
              "    20% {\n",
              "      border-color: transparent;\n",
              "      border-left-color: var(--fill-color);\n",
              "      border-top-color: var(--fill-color);\n",
              "    }\n",
              "    30% {\n",
              "      border-color: transparent;\n",
              "      border-left-color: var(--fill-color);\n",
              "      border-top-color: var(--fill-color);\n",
              "      border-right-color: var(--fill-color);\n",
              "    }\n",
              "    40% {\n",
              "      border-color: transparent;\n",
              "      border-right-color: var(--fill-color);\n",
              "      border-top-color: var(--fill-color);\n",
              "    }\n",
              "    60% {\n",
              "      border-color: transparent;\n",
              "      border-right-color: var(--fill-color);\n",
              "    }\n",
              "    80% {\n",
              "      border-color: transparent;\n",
              "      border-right-color: var(--fill-color);\n",
              "      border-bottom-color: var(--fill-color);\n",
              "    }\n",
              "    90% {\n",
              "      border-color: transparent;\n",
              "      border-bottom-color: var(--fill-color);\n",
              "    }\n",
              "  }\n",
              "</style>\n",
              "\n",
              "  <script>\n",
              "    async function quickchart(key) {\n",
              "      const quickchartButtonEl =\n",
              "        document.querySelector('#' + key + ' button');\n",
              "      quickchartButtonEl.disabled = true;  // To prevent multiple clicks.\n",
              "      quickchartButtonEl.classList.add('colab-df-spinner');\n",
              "      try {\n",
              "        const charts = await google.colab.kernel.invokeFunction(\n",
              "            'suggestCharts', [key], {});\n",
              "      } catch (error) {\n",
              "        console.error('Error during call to suggestCharts:', error);\n",
              "      }\n",
              "      quickchartButtonEl.classList.remove('colab-df-spinner');\n",
              "      quickchartButtonEl.classList.add('colab-df-quickchart-complete');\n",
              "    }\n",
              "    (() => {\n",
              "      let quickchartButtonEl =\n",
              "        document.querySelector('#df-069a4760-5c0e-4dec-a2cf-dad0dab1eea0 button');\n",
              "      quickchartButtonEl.style.display =\n",
              "        google.colab.kernel.accessAllowed ? 'block' : 'none';\n",
              "    })();\n",
              "  </script>\n",
              "</div>\n",
              "    </div>\n",
              "  </div>\n"
            ],
            "application/vnd.google.colaboratory.intrinsic+json": {
              "type": "dataframe",
              "variable_name": "data",
              "summary": "{\n  \"name\": \"data\",\n  \"rows\": 24,\n  \"fields\": [\n    {\n      \"column\": \"Toyota\",\n      \"properties\": {\n        \"dtype\": \"number\",\n        \"std\": 24.343968535295637,\n        \"min\": 102.16799388355506,\n        \"max\": 189.4803203876848,\n        \"num_unique_values\": 24,\n        \"samples\": [\n          138.2631403516262,\n          124.67922199163941,\n          162.41785382528082\n        ],\n        \"semantic_type\": \"\",\n        \"description\": \"\"\n      }\n    },\n    {\n      \"column\": \"Honda\",\n      \"properties\": {\n        \"dtype\": \"number\",\n        \"std\": 17.71233744782675,\n        \"min\": 90.80659752240449,\n        \"max\": 167.04556369017877,\n        \"num_unique_values\": 24,\n        \"samples\": [\n          129.73005550524132,\n          144.7693315999082,\n          119.11234550949635\n        ],\n        \"semantic_type\": \"\",\n        \"description\": \"\"\n      }\n    },\n    {\n      \"column\": \"Ford\",\n      \"properties\": {\n        \"dtype\": \"number\",\n        \"std\": 32.36917581880696,\n        \"min\": 20.1,\n        \"max\": 146.1410969939791,\n        \"num_unique_values\": 24,\n        \"samples\": [\n          74.82347430332084,\n          124.37577467182594,\n          20.1\n        ],\n        \"semantic_type\": \"\",\n        \"description\": \"\"\n      }\n    },\n    {\n      \"column\": \"BMW\",\n      \"properties\": {\n        \"dtype\": \"number\",\n        \"std\": 14.832639386033005,\n        \"min\": 40.703823438653835,\n        \"max\": 103.4696548372101,\n        \"num_unique_values\": 24,\n        \"samples\": [\n          76.70492168243732,\n          72.05359694349441,\n          79.46260941335073\n        ],\n        \"semantic_type\": \"\",\n        \"description\": \"\"\n      }\n    },\n    {\n      \"column\": \"Tesla\",\n      \"properties\": {\n        \"dtype\": \"number\",\n        \"std\": 22.23772784767213,\n        \"min\": 51.62457569401917,\n        \"max\": 150.112,\n        \"num_unique_values\": 24,\n        \"samples\": [\n          86.77428576667981,\n          91.20460419882053,\n          95.92240554129152\n        ],\n        \"semantic_type\": \"\",\n        \"description\": \"\"\n      }\n    }\n  ]\n}"
            }
          },
          "metadata": {},
          "execution_count": 30
        }
      ]
    },
    {
      "cell_type": "code",
      "source": [
        "import seaborn as sns\n",
        "import matplotlib.pyplot as plt\n",
        "\n",
        "plt.figure(figsize=(12, 7))  # Увеличим размер графика для лучшей читаемости\n",
        "plt.boxplot(data, tick_labels=data.columns, showfliers=False) # matplotlib\n",
        "plt.title(\"Сравнение продаж автомобилей разных марок (за 24 месяца)\")\n",
        "plt.ylabel(\"Количество проданных автомобилей\")\n",
        "plt.grid(True)\n",
        "plt.show()"
      ],
      "metadata": {
        "id": "Y50LrdyGFXj0",
        "outputId": "786b15e8-6d8c-43e2-a3a8-149c2b52c9fa",
        "colab": {
          "base_uri": "https://localhost:8080/",
          "height": 622
        }
      },
      "execution_count": 31,
      "outputs": [
        {
          "output_type": "display_data",
          "data": {
            "text/plain": [
              "<Figure size 1200x700 with 1 Axes>"
            ],
            "image/png": "[encoded data removed]"
          },
          "metadata": {}
        }
      ]
    },
    {
      "cell_type": "code",
      "source": [
        "# График кривой\n",
        "\n",
        "fig, ax = plt.subplots(figsize=(10, 8), nrows=2, ncols=3)\n",
        "\n",
        "i = 0\n",
        "j = 0\n",
        "\n",
        "for x in data:\n",
        "    ax[i, j].hist(data[x])\n",
        "    ax[i, j].set_title(x)\n",
        "    j += 1\n",
        "    if j == 3:\n",
        "        i += 1\n",
        "        j = 0\n",
        "\n",
        "ax[i, j].boxplot(data, tick_labels=data.columns, showfliers=False) # matplotlib\n",
        "ax[i, j].set_title(\"Сравнение\")\n",
        "plt.show()"
      ],
      "metadata": {
        "id": "9E7N3M0iGNPy",
        "outputId": "dc8a4e51-6c8f-4118-a2d2-96744ead02ab",
        "colab": {
          "base_uri": "https://localhost:8080/",
          "height": 699
        }
      },
      "execution_count": 32,
      "outputs": [
        {
          "output_type": "display_data",
          "data": {
            "text/plain": [
              "<Figure size 1000x800 with 6 Axes>"
            ],
            "image/png": "[encoded data removed]"
          },
          "metadata": {}
        }
      ]
    },
    {
      "cell_type": "markdown",
      "metadata": {
        "id": "YIkLz0zDbqVH"
      },
      "source": [
        "# Pandas\n",
        "\n",
        "[10 minutes to pandas](https://pandas.pydata.org/pandas-docs/stable/user_guide/10min.html)\n",
        "\n",
        "[Pandas course on kaggle](https://www.kaggle.com/learn/pandas)"
      ]
    },
    {
      "cell_type": "code",
      "execution_count": null,
      "metadata": {
        "id": "O2ng4NifbqVM"
      },
      "outputs": [],
      "source": [
        "import pandas as pd\n",
        "import numpy as np"
      ]
    },
    {
      "cell_type": "code",
      "execution_count": null,
      "metadata": {
        "colab": {
          "base_uri": "https://localhost:8080/",
          "height": 112
        },
        "id": "fBF58d0ebqVO",
        "outputId": "f934818f-f3fb-44c7-9df5-4c780d3a8ee9"
      },
      "outputs": [
        {
          "data": {
            "text/html": [
              "<div>\n",
              "<style scoped>\n",
              "    .dataframe tbody tr th:only-of-type {\n",
              "        vertical-align: middle;\n",
              "    }\n",
              "\n",
              "    .dataframe tbody tr th {\n",
              "        vertical-align: top;\n",
              "    }\n",
              "\n",
              "    .dataframe thead th {\n",
              "        text-align: right;\n",
              "    }\n",
              "</style>\n",
              "<table border=\"1\" class=\"dataframe\">\n",
              "  <thead>\n",
              "    <tr style=\"text-align: right;\">\n",
              "      <th></th>\n",
              "      <th>Yes</th>\n",
              "      <th>No</th>\n",
              "    </tr>\n",
              "  </thead>\n",
              "  <tbody>\n",
              "    <tr>\n",
              "      <th>0</th>\n",
              "      <td>50</td>\n",
              "      <td>131</td>\n",
              "    </tr>\n",
              "    <tr>\n",
              "      <th>1</th>\n",
              "      <td>21</td>\n",
              "      <td>2</td>\n",
              "    </tr>\n",
              "  </tbody>\n",
              "</table>\n",
              "</div>"
            ],
            "text/plain": [
              "   Yes   No\n",
              "0   50  131\n",
              "1   21    2"
            ]
          },
          "metadata": {},
          "output_type": "display_data"
        }
      ],
      "source": [
        "# Создание DataFrame\n",
        "df = pd.DataFrame({'Yes': [50, 21], 'No': [131, 2]})\n",
        "display(df)"
      ]
    },
    {
      "cell_type": "code",
      "execution_count": null,
      "metadata": {
        "colab": {
          "base_uri": "https://localhost:8080/",
          "height": 112
        },
        "id": "8D9w7HDnbqVP",
        "outputId": "3f5328d1-b6dc-412a-87c0-e7d08501ce82"
      },
      "outputs": [
        {
          "data": {
            "text/html": [
              "<div>\n",
              "<style scoped>\n",
              "    .dataframe tbody tr th:only-of-type {\n",
              "        vertical-align: middle;\n",
              "    }\n",
              "\n",
              "    .dataframe tbody tr th {\n",
              "        vertical-align: top;\n",
              "    }\n",
              "\n",
              "    .dataframe thead th {\n",
              "        text-align: right;\n",
              "    }\n",
              "</style>\n",
              "<table border=\"1\" class=\"dataframe\">\n",
              "  <thead>\n",
              "    <tr style=\"text-align: right;\">\n",
              "      <th></th>\n",
              "      <th>Yes</th>\n",
              "      <th>No</th>\n",
              "    </tr>\n",
              "  </thead>\n",
              "  <tbody>\n",
              "    <tr>\n",
              "      <th>Case 1</th>\n",
              "      <td>50</td>\n",
              "      <td>131</td>\n",
              "    </tr>\n",
              "    <tr>\n",
              "      <th>Case 2</th>\n",
              "      <td>21</td>\n",
              "      <td>2</td>\n",
              "    </tr>\n",
              "  </tbody>\n",
              "</table>\n",
              "</div>"
            ],
            "text/plain": [
              "        Yes   No\n",
              "Case 1   50  131\n",
              "Case 2   21    2"
            ]
          },
          "execution_count": 68,
          "metadata": {},
          "output_type": "execute_result"
        }
      ],
      "source": [
        "# Добавление индексов\n",
        "df = pd.DataFrame({'Yes': [50, 21], 'No': [131, 2]}, index=['Case 1', 'Case 2'])\n",
        "df"
      ]
    },
    {
      "cell_type": "code",
      "execution_count": null,
      "metadata": {
        "colab": {
          "base_uri": "https://localhost:8080/",
          "height": 312
        },
        "id": "ZEe0SD0kbqVP",
        "outputId": "0b1dc40c-cc37-4998-f825-a568e31f62ea"
      },
      "outputs": [
        {
          "data": {
            "text/plain": [
              "0    1\n",
              "1    2\n",
              "2    3\n",
              "3    4\n",
              "4    5\n",
              "Name: series_name, dtype: int64"
            ]
          },
          "execution_count": 69,
          "metadata": {},
          "output_type": "execute_result"
        }
      ],
      "source": [
        "# Series\n",
        "s = pd.Series([i + 1 for i in range(16)], index=[i for i in range(16)], name='series_name')\n",
        "s.head()"
      ]
    },
    {
      "cell_type": "code",
      "execution_count": null,
      "metadata": {
        "colab": {
          "base_uri": "https://localhost:8080/",
          "height": 104
        },
        "id": "RTjX3PlgbqVQ",
        "outputId": "79fc6646-03c3-4df2-e9d0-80c72f0098b3"
      },
      "outputs": [
        {
          "name": "stdout",
          "output_type": "stream",
          "text": [
            "<class 'pandas.core.series.Series'> \n",
            "\n"
          ]
        },
        {
          "data": {
            "text/plain": [
              "Case 1    50\n",
              "Case 2    21\n",
              "Name: Yes, dtype: int64"
            ]
          },
          "metadata": {},
          "output_type": "display_data"
        }
      ],
      "source": [
        "s = df['Yes']\n",
        "print(type(s), '\\n')\n",
        "display(s)"
      ]
    },
    {
      "cell_type": "code",
      "execution_count": null,
      "metadata": {
        "id": "qHbsFuULbqVQ"
      },
      "outputs": [],
      "source": [
        "# Запись DataFrame\n",
        "df = pd.DataFrame({'Yes': [50, 21], 'No': [131, 2]}, index=['Case 1', 'Case 2'])\n",
        "df.to_csv('df.csv')"
      ]
    },
    {
      "cell_type": "code",
      "execution_count": null,
      "metadata": {
        "colab": {
          "base_uri": "https://localhost:8080/",
          "height": 112
        },
        "id": "rYKTgRfEbqVR",
        "outputId": "1a1c8181-ebfd-4f59-ab2e-8f626b531d08"
      },
      "outputs": [
        {
          "data": {
            "text/html": [
              "<div>\n",
              "<style scoped>\n",
              "    .dataframe tbody tr th:only-of-type {\n",
              "        vertical-align: middle;\n",
              "    }\n",
              "\n",
              "    .dataframe tbody tr th {\n",
              "        vertical-align: top;\n",
              "    }\n",
              "\n",
              "    .dataframe thead th {\n",
              "        text-align: right;\n",
              "    }\n",
              "</style>\n",
              "<table border=\"1\" class=\"dataframe\">\n",
              "  <thead>\n",
              "    <tr style=\"text-align: right;\">\n",
              "      <th></th>\n",
              "      <th>Yes</th>\n",
              "      <th>No</th>\n",
              "    </tr>\n",
              "  </thead>\n",
              "  <tbody>\n",
              "    <tr>\n",
              "      <th>Case 1</th>\n",
              "      <td>50</td>\n",
              "      <td>131</td>\n",
              "    </tr>\n",
              "    <tr>\n",
              "      <th>Case 2</th>\n",
              "      <td>21</td>\n",
              "      <td>2</td>\n",
              "    </tr>\n",
              "  </tbody>\n",
              "</table>\n",
              "</div>"
            ],
            "text/plain": [
              "        Yes   No\n",
              "Case 1   50  131\n",
              "Case 2   21    2"
            ]
          },
          "execution_count": 72,
          "metadata": {},
          "output_type": "execute_result"
        }
      ],
      "source": [
        "# Чтение DataFrame\n",
        "df = pd.read_csv('df.csv', index_col=0)\n",
        "df"
      ]
    },
    {
      "cell_type": "code",
      "execution_count": null,
      "metadata": {
        "colab": {
          "base_uri": "https://localhost:8080/"
        },
        "id": "KuG9L8j3bqVS",
        "outputId": "33c76303-2509-4eb3-d3c2-853178eb5b5b"
      },
      "outputs": [
        {
          "name": "stdout",
          "output_type": "stream",
          "text": [
            "DatetimeIndex(['2013-01-01', '2013-01-02', '2013-01-03', '2013-01-04',\n",
            "               '2013-01-05', '2013-01-06'],\n",
            "              dtype='datetime64[ns]', freq='D') \n",
            "\n",
            "df:  \n",
            "                    A         B         C         D\n",
            "2013-01-01 -0.476053 -0.204601 -0.636864 -1.210392\n",
            "2013-01-02  0.362080 -1.374329 -0.512812 -1.000987\n",
            "2013-01-03  0.616161 -0.482740 -0.102746 -0.561265\n",
            "2013-01-04  1.172860  0.641495  1.129638  2.484630\n",
            "2013-01-05  0.444979  0.790107 -0.240178 -1.272770\n",
            "2013-01-06  0.713193  1.191013  0.860803  0.251282 \n",
            "\n",
            "df.dtypes:  \n",
            " A    float64\n",
            "B    float64\n",
            "C    float64\n",
            "D    float64\n",
            "dtype: object \n",
            "\n",
            "df.index:  \n",
            " DatetimeIndex(['2013-01-01', '2013-01-02', '2013-01-03', '2013-01-04',\n",
            "               '2013-01-05', '2013-01-06'],\n",
            "              dtype='datetime64[ns]', freq='D') \n",
            "\n",
            "df.columns:  \n",
            " Index(['A', 'B', 'C', 'D'], dtype='object') \n",
            "\n",
            "df.to_numpy():  \n",
            " [[-0.47605325 -0.20460108 -0.63686445 -1.21039221]\n",
            " [ 0.36208012 -1.3743293  -0.51281242 -1.0009868 ]\n",
            " [ 0.61616083 -0.48274043 -0.10274605 -0.5612647 ]\n",
            " [ 1.17286008  0.64149525  1.12963791  2.48462955]\n",
            " [ 0.44497947  0.79010699 -0.24017826 -1.27277042]\n",
            " [ 0.71319266  1.19101308  0.86080271  0.25128155]] \n",
            "\n",
            "df.T:  \n",
            "    2013-01-01  2013-01-02  2013-01-03  2013-01-04  2013-01-05  2013-01-06\n",
            "A   -0.476053    0.362080    0.616161    1.172860    0.444979    0.713193\n",
            "B   -0.204601   -1.374329   -0.482740    0.641495    0.790107    1.191013\n",
            "C   -0.636864   -0.512812   -0.102746    1.129638   -0.240178    0.860803\n",
            "D   -1.210392   -1.000987   -0.561265    2.484630   -1.272770    0.251282 \n",
            "\n",
            "df.sort_values(by=\"B\"):  \n",
            "                    A         B         C         D\n",
            "2013-01-02  0.362080 -1.374329 -0.512812 -1.000987\n",
            "2013-01-03  0.616161 -0.482740 -0.102746 -0.561265\n",
            "2013-01-01 -0.476053 -0.204601 -0.636864 -1.210392\n",
            "2013-01-04  1.172860  0.641495  1.129638  2.484630\n",
            "2013-01-05  0.444979  0.790107 -0.240178 -1.272770\n",
            "2013-01-06  0.713193  1.191013  0.860803  0.251282 \n",
            "\n",
            "dataset_df.shape:  \n",
            " (6, 4) \n",
            "\n"
          ]
        }
      ],
      "source": [
        "dates = pd.date_range(\"20130101\", periods=6)\n",
        "\n",
        "print(dates, '\\n')\n",
        "\n",
        "df = pd.DataFrame(np.random.randn(6, 4), index=dates, columns=list(\"ABCD\"))\n",
        "\n",
        "print('df: ', '\\n', df, '\\n')\n",
        "print('df.dtypes: ', '\\n', df.dtypes, '\\n')\n",
        "print('df.index: ', '\\n', df.index, '\\n')\n",
        "print('df.columns: ', '\\n', df.columns, '\\n')\n",
        "print('df.to_numpy(): ', '\\n', df.to_numpy(), '\\n')\n",
        "print('df.T: ', '\\n', df.T, '\\n')\n",
        "print('df.sort_values(by=\"B\"): ', '\\n', df.sort_values(by=\"B\"), '\\n')\n",
        "print('dataset_df.shape: ', '\\n', df.shape, '\\n')"
      ]
    },
    {
      "cell_type": "code",
      "execution_count": null,
      "metadata": {
        "colab": {
          "base_uri": "https://localhost:8080/"
        },
        "id": "n0w8Wk41bqVT",
        "outputId": "f0d6d2bc-d750-444c-aa5d-72a5fb14bf81"
      },
      "outputs": [
        {
          "name": "stdout",
          "output_type": "stream",
          "text": [
            "df[\"A\"]:  \n",
            " 2013-01-01   -0.476053\n",
            "2013-01-02    0.362080\n",
            "2013-01-03    0.616161\n",
            "2013-01-04    1.172860\n",
            "2013-01-05    0.444979\n",
            "2013-01-06    0.713193\n",
            "Freq: D, Name: A, dtype: float64 \n",
            "\n",
            "df[0:3]:  \n",
            "                    A         B         C         D\n",
            "2013-01-01 -0.476053 -0.204601 -0.636864 -1.210392\n",
            "2013-01-02  0.362080 -1.374329 -0.512812 -1.000987\n",
            "2013-01-03  0.616161 -0.482740 -0.102746 -0.561265 \n",
            "\n"
          ]
        }
      ],
      "source": [
        "# Индексация\n",
        "print('df[\"A\"]: ', '\\n', df[\"A\"], '\\n')\n",
        "print('df[0:3]: ', '\\n', df[0:3], '\\n')"
      ]
    },
    {
      "cell_type": "code",
      "execution_count": null,
      "metadata": {
        "colab": {
          "base_uri": "https://localhost:8080/"
        },
        "id": "52an52QEbqVU",
        "outputId": "813c576a-e824-4304-93f9-a72593d94e6d"
      },
      "outputs": [
        {
          "name": "stdout",
          "output_type": "stream",
          "text": [
            "df.loc[\"20130102\":\"20130104\", [\"A\", \"B\"]]:  \n",
            "                    A         B\n",
            "2013-01-02  0.362080 -1.374329\n",
            "2013-01-03  0.616161 -0.482740\n",
            "2013-01-04  1.172860  0.641495 \n",
            "\n"
          ]
        }
      ],
      "source": [
        "# Индексация с помощью loc\n",
        "print('df.loc[\"20130102\":\"20130104\", [\"A\", \"B\"]]: ', '\\n', df.loc[\"20130102\":\"20130104\", [\"A\", \"B\"]], '\\n')"
      ]
    },
    {
      "cell_type": "code",
      "execution_count": null,
      "metadata": {
        "colab": {
          "base_uri": "https://localhost:8080/"
        },
        "id": "wtcG2Lm5bqVU",
        "outputId": "5f6c3bee-b169-486c-cca8-ce851e0cfb4c"
      },
      "outputs": [
        {
          "name": "stdout",
          "output_type": "stream",
          "text": [
            "df.iloc[0:2, 4]:  \n",
            " 2013-01-01   -1.210392\n",
            "2013-01-02   -1.000987\n",
            "Freq: D, Name: D, dtype: float64 \n",
            "\n"
          ]
        }
      ],
      "source": [
        "# Индексация с помощью iloc\n",
        "print('df.iloc[0:2, 4]: ', '\\n', df.iloc[0:2, 3], '\\n')"
      ]
    },
    {
      "cell_type": "code",
      "execution_count": null,
      "metadata": {
        "colab": {
          "base_uri": "https://localhost:8080/",
          "height": 238
        },
        "id": "f1BQTkx4bqVV",
        "outputId": "fdd8c980-49f9-4cd3-8f94-8eaccd14e343"
      },
      "outputs": [
        {
          "data": {
            "text/html": [
              "<div>\n",
              "<style scoped>\n",
              "    .dataframe tbody tr th:only-of-type {\n",
              "        vertical-align: middle;\n",
              "    }\n",
              "\n",
              "    .dataframe tbody tr th {\n",
              "        vertical-align: top;\n",
              "    }\n",
              "\n",
              "    .dataframe thead th {\n",
              "        text-align: right;\n",
              "    }\n",
              "</style>\n",
              "<table border=\"1\" class=\"dataframe\">\n",
              "  <thead>\n",
              "    <tr style=\"text-align: right;\">\n",
              "      <th></th>\n",
              "      <th>A</th>\n",
              "      <th>B</th>\n",
              "      <th>C</th>\n",
              "      <th>D</th>\n",
              "      <th>F</th>\n",
              "    </tr>\n",
              "  </thead>\n",
              "  <tbody>\n",
              "    <tr>\n",
              "      <th>2013-01-01</th>\n",
              "      <td>-0.476053</td>\n",
              "      <td>-0.204601</td>\n",
              "      <td>-0.636864</td>\n",
              "      <td>-1.210392</td>\n",
              "      <td>1</td>\n",
              "    </tr>\n",
              "    <tr>\n",
              "      <th>2013-01-02</th>\n",
              "      <td>0.362080</td>\n",
              "      <td>-1.374329</td>\n",
              "      <td>-0.512812</td>\n",
              "      <td>-1.000987</td>\n",
              "      <td>2</td>\n",
              "    </tr>\n",
              "    <tr>\n",
              "      <th>2013-01-03</th>\n",
              "      <td>0.616161</td>\n",
              "      <td>-0.482740</td>\n",
              "      <td>-0.102746</td>\n",
              "      <td>-0.561265</td>\n",
              "      <td>3</td>\n",
              "    </tr>\n",
              "    <tr>\n",
              "      <th>2013-01-04</th>\n",
              "      <td>1.172860</td>\n",
              "      <td>0.641495</td>\n",
              "      <td>1.129638</td>\n",
              "      <td>2.484630</td>\n",
              "      <td>4</td>\n",
              "    </tr>\n",
              "    <tr>\n",
              "      <th>2013-01-05</th>\n",
              "      <td>0.444979</td>\n",
              "      <td>0.790107</td>\n",
              "      <td>-0.240178</td>\n",
              "      <td>-1.272770</td>\n",
              "      <td>5</td>\n",
              "    </tr>\n",
              "    <tr>\n",
              "      <th>2013-01-06</th>\n",
              "      <td>0.713193</td>\n",
              "      <td>1.191013</td>\n",
              "      <td>0.860803</td>\n",
              "      <td>0.251282</td>\n",
              "      <td>6</td>\n",
              "    </tr>\n",
              "  </tbody>\n",
              "</table>\n",
              "</div>"
            ],
            "text/plain": [
              "                   A         B         C         D  F\n",
              "2013-01-01 -0.476053 -0.204601 -0.636864 -1.210392  1\n",
              "2013-01-02  0.362080 -1.374329 -0.512812 -1.000987  2\n",
              "2013-01-03  0.616161 -0.482740 -0.102746 -0.561265  3\n",
              "2013-01-04  1.172860  0.641495  1.129638  2.484630  4\n",
              "2013-01-05  0.444979  0.790107 -0.240178 -1.272770  5\n",
              "2013-01-06  0.713193  1.191013  0.860803  0.251282  6"
            ]
          },
          "execution_count": 77,
          "metadata": {},
          "output_type": "execute_result"
        }
      ],
      "source": [
        "# Добавление столбца\n",
        "s1 = pd.Series([1, 2, 3, 4, 5, 6], index=pd.date_range(\"20130101\", periods=6))\n",
        "df[\"F\"] = s1\n",
        "df"
      ]
    },
    {
      "cell_type": "code",
      "execution_count": null,
      "metadata": {
        "colab": {
          "base_uri": "https://localhost:8080/",
          "height": 238
        },
        "id": "H0MzNXxUbqVV",
        "outputId": "72e839de-67d7-49aa-eb7d-4665e41b7295"
      },
      "outputs": [
        {
          "name": "stderr",
          "output_type": "stream",
          "text": [
            "C:\\Users\\chest\\AppData\\Local\\Temp\\ipykernel_2576\\4224359019.py:2: DeprecationWarning: In a future version, `df.iloc[:, i] = newvals` will attempt to set the values inplace instead of always setting a new array. To retain the old behavior, use either `df[df.columns[i]] = newvals` or, if columns are non-unique, `df.isetitem(i, newvals)`\n",
            "  df.loc[:, \"D\"] = np.array([5] * len(df))\n"
          ]
        },
        {
          "data": {
            "text/html": [
              "<div>\n",
              "<style scoped>\n",
              "    .dataframe tbody tr th:only-of-type {\n",
              "        vertical-align: middle;\n",
              "    }\n",
              "\n",
              "    .dataframe tbody tr th {\n",
              "        vertical-align: top;\n",
              "    }\n",
              "\n",
              "    .dataframe thead th {\n",
              "        text-align: right;\n",
              "    }\n",
              "</style>\n",
              "<table border=\"1\" class=\"dataframe\">\n",
              "  <thead>\n",
              "    <tr style=\"text-align: right;\">\n",
              "      <th></th>\n",
              "      <th>A</th>\n",
              "      <th>B</th>\n",
              "      <th>C</th>\n",
              "      <th>D</th>\n",
              "      <th>F</th>\n",
              "    </tr>\n",
              "  </thead>\n",
              "  <tbody>\n",
              "    <tr>\n",
              "      <th>2013-01-01</th>\n",
              "      <td>-0.476053</td>\n",
              "      <td>-0.204601</td>\n",
              "      <td>-0.636864</td>\n",
              "      <td>5</td>\n",
              "      <td>1</td>\n",
              "    </tr>\n",
              "    <tr>\n",
              "      <th>2013-01-02</th>\n",
              "      <td>0.362080</td>\n",
              "      <td>-1.374329</td>\n",
              "      <td>-0.512812</td>\n",
              "      <td>5</td>\n",
              "      <td>2</td>\n",
              "    </tr>\n",
              "    <tr>\n",
              "      <th>2013-01-03</th>\n",
              "      <td>0.616161</td>\n",
              "      <td>-0.482740</td>\n",
              "      <td>-0.102746</td>\n",
              "      <td>5</td>\n",
              "      <td>3</td>\n",
              "    </tr>\n",
              "    <tr>\n",
              "      <th>2013-01-04</th>\n",
              "      <td>1.172860</td>\n",
              "      <td>0.641495</td>\n",
              "      <td>1.129638</td>\n",
              "      <td>5</td>\n",
              "      <td>4</td>\n",
              "    </tr>\n",
              "    <tr>\n",
              "      <th>2013-01-05</th>\n",
              "      <td>0.444979</td>\n",
              "      <td>0.790107</td>\n",
              "      <td>-0.240178</td>\n",
              "      <td>5</td>\n",
              "      <td>5</td>\n",
              "    </tr>\n",
              "    <tr>\n",
              "      <th>2013-01-06</th>\n",
              "      <td>0.713193</td>\n",
              "      <td>1.191013</td>\n",
              "      <td>0.860803</td>\n",
              "      <td>5</td>\n",
              "      <td>6</td>\n",
              "    </tr>\n",
              "  </tbody>\n",
              "</table>\n",
              "</div>"
            ],
            "text/plain": [
              "                   A         B         C  D  F\n",
              "2013-01-01 -0.476053 -0.204601 -0.636864  5  1\n",
              "2013-01-02  0.362080 -1.374329 -0.512812  5  2\n",
              "2013-01-03  0.616161 -0.482740 -0.102746  5  3\n",
              "2013-01-04  1.172860  0.641495  1.129638  5  4\n",
              "2013-01-05  0.444979  0.790107 -0.240178  5  5\n",
              "2013-01-06  0.713193  1.191013  0.860803  5  6"
            ]
          },
          "execution_count": 78,
          "metadata": {},
          "output_type": "execute_result"
        }
      ],
      "source": [
        "# Изменение стобца\n",
        "df.loc[:, \"D\"] = np.array([5] * len(df))\n",
        "df"
      ]
    },
    {
      "cell_type": "code",
      "execution_count": null,
      "metadata": {
        "colab": {
          "base_uri": "https://localhost:8080/",
          "height": 238
        },
        "id": "JvGPzlnpbqVV",
        "outputId": "c7cc6658-2f2f-485e-ec63-23a2d663ba10"
      },
      "outputs": [
        {
          "data": {
            "text/html": [
              "<div>\n",
              "<style scoped>\n",
              "    .dataframe tbody tr th:only-of-type {\n",
              "        vertical-align: middle;\n",
              "    }\n",
              "\n",
              "    .dataframe tbody tr th {\n",
              "        vertical-align: top;\n",
              "    }\n",
              "\n",
              "    .dataframe thead th {\n",
              "        text-align: right;\n",
              "    }\n",
              "</style>\n",
              "<table border=\"1\" class=\"dataframe\">\n",
              "  <thead>\n",
              "    <tr style=\"text-align: right;\">\n",
              "      <th></th>\n",
              "      <th>A</th>\n",
              "      <th>B</th>\n",
              "      <th>C</th>\n",
              "      <th>D</th>\n",
              "    </tr>\n",
              "  </thead>\n",
              "  <tbody>\n",
              "    <tr>\n",
              "      <th>2013-01-01</th>\n",
              "      <td>-1.891070</td>\n",
              "      <td>0.635209</td>\n",
              "      <td>-1.152543</td>\n",
              "      <td>2.479414</td>\n",
              "    </tr>\n",
              "    <tr>\n",
              "      <th>2013-01-02</th>\n",
              "      <td>-0.055798</td>\n",
              "      <td>-0.278846</td>\n",
              "      <td>-1.321028</td>\n",
              "      <td>3.943410</td>\n",
              "    </tr>\n",
              "    <tr>\n",
              "      <th>2013-01-03</th>\n",
              "      <td>0.267110</td>\n",
              "      <td>0.831469</td>\n",
              "      <td>-0.137232</td>\n",
              "      <td>2.068874</td>\n",
              "    </tr>\n",
              "    <tr>\n",
              "      <th>2013-01-04</th>\n",
              "      <td>0.454311</td>\n",
              "      <td>0.997482</td>\n",
              "      <td>2.170125</td>\n",
              "      <td>3.330376</td>\n",
              "    </tr>\n",
              "    <tr>\n",
              "      <th>2013-01-05</th>\n",
              "      <td>0.882237</td>\n",
              "      <td>1.643259</td>\n",
              "      <td>0.962929</td>\n",
              "      <td>2.153535</td>\n",
              "    </tr>\n",
              "    <tr>\n",
              "      <th>2013-01-06</th>\n",
              "      <td>-1.448648</td>\n",
              "      <td>0.307825</td>\n",
              "      <td>-0.288167</td>\n",
              "      <td>2.609932</td>\n",
              "    </tr>\n",
              "  </tbody>\n",
              "</table>\n",
              "</div>"
            ],
            "text/plain": [
              "                   A         B         C         D\n",
              "2013-01-01 -1.891070  0.635209 -1.152543  2.479414\n",
              "2013-01-02 -0.055798 -0.278846 -1.321028  3.943410\n",
              "2013-01-03  0.267110  0.831469 -0.137232  2.068874\n",
              "2013-01-04  0.454311  0.997482  2.170125  3.330376\n",
              "2013-01-05  0.882237  1.643259  0.962929  2.153535\n",
              "2013-01-06 -1.448648  0.307825 -0.288167  2.609932"
            ]
          },
          "execution_count": 79,
          "metadata": {},
          "output_type": "execute_result"
        }
      ],
      "source": [
        "# Операции между DataFrame\n",
        "df2 = pd.DataFrame(np.random.randn(6, 4), index=dates, columns=list(\"ABCD\"))\n",
        "df2 = df2 + df.iloc[:, :-1] * 0.5\n",
        "df2"
      ]
    },
    {
      "cell_type": "code",
      "execution_count": null,
      "metadata": {
        "colab": {
          "base_uri": "https://localhost:8080/"
        },
        "id": "1wIg_bI3bqVW",
        "outputId": "269a25dd-07ad-49f4-96b9-185d2a8a2784"
      },
      "outputs": [
        {
          "data": {
            "text/html": [
              "<div>\n",
              "<style scoped>\n",
              "    .dataframe tbody tr th:only-of-type {\n",
              "        vertical-align: middle;\n",
              "    }\n",
              "\n",
              "    .dataframe tbody tr th {\n",
              "        vertical-align: top;\n",
              "    }\n",
              "\n",
              "    .dataframe thead th {\n",
              "        text-align: right;\n",
              "    }\n",
              "</style>\n",
              "<table border=\"1\" class=\"dataframe\">\n",
              "  <thead>\n",
              "    <tr style=\"text-align: right;\">\n",
              "      <th></th>\n",
              "      <th>A</th>\n",
              "      <th>B</th>\n",
              "      <th>C</th>\n",
              "      <th>D</th>\n",
              "      <th>F</th>\n",
              "    </tr>\n",
              "  </thead>\n",
              "  <tbody>\n",
              "    <tr>\n",
              "      <th>2013-01-01</th>\n",
              "      <td>-0.476053</td>\n",
              "      <td>-0.204601</td>\n",
              "      <td>-0.636864</td>\n",
              "      <td>5</td>\n",
              "      <td>1</td>\n",
              "    </tr>\n",
              "    <tr>\n",
              "      <th>2013-01-02</th>\n",
              "      <td>0.362080</td>\n",
              "      <td>-1.374329</td>\n",
              "      <td>-0.512812</td>\n",
              "      <td>5</td>\n",
              "      <td>2</td>\n",
              "    </tr>\n",
              "    <tr>\n",
              "      <th>2013-01-03</th>\n",
              "      <td>0.616161</td>\n",
              "      <td>-0.482740</td>\n",
              "      <td>-0.102746</td>\n",
              "      <td>5</td>\n",
              "      <td>3</td>\n",
              "    </tr>\n",
              "    <tr>\n",
              "      <th>2013-01-04</th>\n",
              "      <td>1.172860</td>\n",
              "      <td>0.641495</td>\n",
              "      <td>1.129638</td>\n",
              "      <td>5</td>\n",
              "      <td>4</td>\n",
              "    </tr>\n",
              "    <tr>\n",
              "      <th>2013-01-05</th>\n",
              "      <td>0.444979</td>\n",
              "      <td>0.790107</td>\n",
              "      <td>-0.240178</td>\n",
              "      <td>5</td>\n",
              "      <td>5</td>\n",
              "    </tr>\n",
              "    <tr>\n",
              "      <th>2013-01-06</th>\n",
              "      <td>0.713193</td>\n",
              "      <td>1.191013</td>\n",
              "      <td>0.860803</td>\n",
              "      <td>5</td>\n",
              "      <td>6</td>\n",
              "    </tr>\n",
              "  </tbody>\n",
              "</table>\n",
              "</div>"
            ],
            "text/plain": [
              "                   A         B         C  D  F\n",
              "2013-01-01 -0.476053 -0.204601 -0.636864  5  1\n",
              "2013-01-02  0.362080 -1.374329 -0.512812  5  2\n",
              "2013-01-03  0.616161 -0.482740 -0.102746  5  3\n",
              "2013-01-04  1.172860  0.641495  1.129638  5  4\n",
              "2013-01-05  0.444979  0.790107 -0.240178  5  5\n",
              "2013-01-06  0.713193  1.191013  0.860803  5  6"
            ]
          },
          "metadata": {},
          "output_type": "display_data"
        },
        {
          "data": {
            "text/html": [
              "<div>\n",
              "<style scoped>\n",
              "    .dataframe tbody tr th:only-of-type {\n",
              "        vertical-align: middle;\n",
              "    }\n",
              "\n",
              "    .dataframe tbody tr th {\n",
              "        vertical-align: top;\n",
              "    }\n",
              "\n",
              "    .dataframe thead th {\n",
              "        text-align: right;\n",
              "    }\n",
              "</style>\n",
              "<table border=\"1\" class=\"dataframe\">\n",
              "  <thead>\n",
              "    <tr style=\"text-align: right;\">\n",
              "      <th></th>\n",
              "      <th>A</th>\n",
              "      <th>B</th>\n",
              "      <th>C</th>\n",
              "      <th>D</th>\n",
              "      <th>F</th>\n",
              "    </tr>\n",
              "  </thead>\n",
              "  <tbody>\n",
              "    <tr>\n",
              "      <th>2013-01-01</th>\n",
              "      <td>False</td>\n",
              "      <td>False</td>\n",
              "      <td>False</td>\n",
              "      <td>True</td>\n",
              "      <td>True</td>\n",
              "    </tr>\n",
              "    <tr>\n",
              "      <th>2013-01-02</th>\n",
              "      <td>True</td>\n",
              "      <td>False</td>\n",
              "      <td>False</td>\n",
              "      <td>True</td>\n",
              "      <td>True</td>\n",
              "    </tr>\n",
              "    <tr>\n",
              "      <th>2013-01-03</th>\n",
              "      <td>True</td>\n",
              "      <td>False</td>\n",
              "      <td>False</td>\n",
              "      <td>True</td>\n",
              "      <td>True</td>\n",
              "    </tr>\n",
              "    <tr>\n",
              "      <th>2013-01-04</th>\n",
              "      <td>True</td>\n",
              "      <td>True</td>\n",
              "      <td>True</td>\n",
              "      <td>True</td>\n",
              "      <td>True</td>\n",
              "    </tr>\n",
              "    <tr>\n",
              "      <th>2013-01-05</th>\n",
              "      <td>True</td>\n",
              "      <td>True</td>\n",
              "      <td>False</td>\n",
              "      <td>True</td>\n",
              "      <td>True</td>\n",
              "    </tr>\n",
              "    <tr>\n",
              "      <th>2013-01-06</th>\n",
              "      <td>True</td>\n",
              "      <td>True</td>\n",
              "      <td>True</td>\n",
              "      <td>True</td>\n",
              "      <td>True</td>\n",
              "    </tr>\n",
              "  </tbody>\n",
              "</table>\n",
              "</div>"
            ],
            "text/plain": [
              "                A      B      C     D     F\n",
              "2013-01-01  False  False  False  True  True\n",
              "2013-01-02   True  False  False  True  True\n",
              "2013-01-03   True  False  False  True  True\n",
              "2013-01-04   True   True   True  True  True\n",
              "2013-01-05   True   True  False  True  True\n",
              "2013-01-06   True   True   True  True  True"
            ]
          },
          "metadata": {},
          "output_type": "display_data"
        },
        {
          "data": {
            "text/html": [
              "<div>\n",
              "<style scoped>\n",
              "    .dataframe tbody tr th:only-of-type {\n",
              "        vertical-align: middle;\n",
              "    }\n",
              "\n",
              "    .dataframe tbody tr th {\n",
              "        vertical-align: top;\n",
              "    }\n",
              "\n",
              "    .dataframe thead th {\n",
              "        text-align: right;\n",
              "    }\n",
              "</style>\n",
              "<table border=\"1\" class=\"dataframe\">\n",
              "  <thead>\n",
              "    <tr style=\"text-align: right;\">\n",
              "      <th></th>\n",
              "      <th>A</th>\n",
              "      <th>B</th>\n",
              "      <th>C</th>\n",
              "      <th>D</th>\n",
              "      <th>F</th>\n",
              "    </tr>\n",
              "  </thead>\n",
              "  <tbody>\n",
              "    <tr>\n",
              "      <th>2013-01-01</th>\n",
              "      <td>-0.476053</td>\n",
              "      <td>-0.204601</td>\n",
              "      <td>-0.636864</td>\n",
              "      <td>10</td>\n",
              "      <td>2</td>\n",
              "    </tr>\n",
              "    <tr>\n",
              "      <th>2013-01-02</th>\n",
              "      <td>0.724160</td>\n",
              "      <td>-1.374329</td>\n",
              "      <td>-0.512812</td>\n",
              "      <td>10</td>\n",
              "      <td>4</td>\n",
              "    </tr>\n",
              "    <tr>\n",
              "      <th>2013-01-03</th>\n",
              "      <td>1.232322</td>\n",
              "      <td>-0.482740</td>\n",
              "      <td>-0.102746</td>\n",
              "      <td>10</td>\n",
              "      <td>6</td>\n",
              "    </tr>\n",
              "    <tr>\n",
              "      <th>2013-01-04</th>\n",
              "      <td>2.345720</td>\n",
              "      <td>1.282991</td>\n",
              "      <td>2.259276</td>\n",
              "      <td>10</td>\n",
              "      <td>8</td>\n",
              "    </tr>\n",
              "    <tr>\n",
              "      <th>2013-01-05</th>\n",
              "      <td>0.889959</td>\n",
              "      <td>1.580214</td>\n",
              "      <td>-0.240178</td>\n",
              "      <td>10</td>\n",
              "      <td>10</td>\n",
              "    </tr>\n",
              "    <tr>\n",
              "      <th>2013-01-06</th>\n",
              "      <td>1.426385</td>\n",
              "      <td>2.382026</td>\n",
              "      <td>1.721605</td>\n",
              "      <td>10</td>\n",
              "      <td>12</td>\n",
              "    </tr>\n",
              "  </tbody>\n",
              "</table>\n",
              "</div>"
            ],
            "text/plain": [
              "                   A         B         C   D   F\n",
              "2013-01-01 -0.476053 -0.204601 -0.636864  10   2\n",
              "2013-01-02  0.724160 -1.374329 -0.512812  10   4\n",
              "2013-01-03  1.232322 -0.482740 -0.102746  10   6\n",
              "2013-01-04  2.345720  1.282991  2.259276  10   8\n",
              "2013-01-05  0.889959  1.580214 -0.240178  10  10\n",
              "2013-01-06  1.426385  2.382026  1.721605  10  12"
            ]
          },
          "metadata": {},
          "output_type": "display_data"
        }
      ],
      "source": [
        "# Булева индексация\n",
        "\n",
        "display(df)\n",
        "display(df > 0)\n",
        "df[df > 0] = df * 2\n",
        "display(df)"
      ]
    },
    {
      "cell_type": "code",
      "execution_count": null,
      "metadata": {
        "id": "9ozQz_TnE1Pu",
        "outputId": "6eb5c98d-0828-42ca-8f46-e6f5361a5986"
      },
      "outputs": [
        {
          "data": {
            "text/html": [
              "<div>\n",
              "<style scoped>\n",
              "    .dataframe tbody tr th:only-of-type {\n",
              "        vertical-align: middle;\n",
              "    }\n",
              "\n",
              "    .dataframe tbody tr th {\n",
              "        vertical-align: top;\n",
              "    }\n",
              "\n",
              "    .dataframe thead th {\n",
              "        text-align: right;\n",
              "    }\n",
              "</style>\n",
              "<table border=\"1\" class=\"dataframe\">\n",
              "  <thead>\n",
              "    <tr style=\"text-align: right;\">\n",
              "      <th></th>\n",
              "      <th>A</th>\n",
              "      <th>B</th>\n",
              "      <th>C</th>\n",
              "      <th>D</th>\n",
              "      <th>F</th>\n",
              "    </tr>\n",
              "  </thead>\n",
              "  <tbody>\n",
              "    <tr>\n",
              "      <th>2013-01-01</th>\n",
              "      <td>-0.476053</td>\n",
              "      <td>-0.204601</td>\n",
              "      <td>-0.636864</td>\n",
              "      <td>10</td>\n",
              "      <td>2</td>\n",
              "    </tr>\n",
              "    <tr>\n",
              "      <th>2013-01-02</th>\n",
              "      <td>0.724160</td>\n",
              "      <td>-1.374329</td>\n",
              "      <td>-0.512812</td>\n",
              "      <td>10</td>\n",
              "      <td>4</td>\n",
              "    </tr>\n",
              "    <tr>\n",
              "      <th>2013-01-03</th>\n",
              "      <td>1.232322</td>\n",
              "      <td>-0.482740</td>\n",
              "      <td>-0.102746</td>\n",
              "      <td>10</td>\n",
              "      <td>6</td>\n",
              "    </tr>\n",
              "    <tr>\n",
              "      <th>2013-01-04</th>\n",
              "      <td>2.345720</td>\n",
              "      <td>1.282991</td>\n",
              "      <td>2.259276</td>\n",
              "      <td>10</td>\n",
              "      <td>8</td>\n",
              "    </tr>\n",
              "    <tr>\n",
              "      <th>2013-01-05</th>\n",
              "      <td>0.889959</td>\n",
              "      <td>1.580214</td>\n",
              "      <td>-0.240178</td>\n",
              "      <td>10</td>\n",
              "      <td>10</td>\n",
              "    </tr>\n",
              "    <tr>\n",
              "      <th>2013-01-06</th>\n",
              "      <td>1.426385</td>\n",
              "      <td>2.382026</td>\n",
              "      <td>1.721605</td>\n",
              "      <td>10</td>\n",
              "      <td>12</td>\n",
              "    </tr>\n",
              "  </tbody>\n",
              "</table>\n",
              "</div>"
            ],
            "text/plain": [
              "                   A         B         C   D   F\n",
              "2013-01-01 -0.476053 -0.204601 -0.636864  10   2\n",
              "2013-01-02  0.724160 -1.374329 -0.512812  10   4\n",
              "2013-01-03  1.232322 -0.482740 -0.102746  10   6\n",
              "2013-01-04  2.345720  1.282991  2.259276  10   8\n",
              "2013-01-05  0.889959  1.580214 -0.240178  10  10\n",
              "2013-01-06  1.426385  2.382026  1.721605  10  12"
            ]
          },
          "metadata": {},
          "output_type": "display_data"
        },
        {
          "data": {
            "text/plain": [
              "2013-01-01    False\n",
              "2013-01-02    False\n",
              "2013-01-03    False\n",
              "2013-01-04     True\n",
              "2013-01-05    False\n",
              "2013-01-06    False\n",
              "Freq: D, Name: A, dtype: bool"
            ]
          },
          "metadata": {},
          "output_type": "display_data"
        },
        {
          "data": {
            "text/html": [
              "<div>\n",
              "<style scoped>\n",
              "    .dataframe tbody tr th:only-of-type {\n",
              "        vertical-align: middle;\n",
              "    }\n",
              "\n",
              "    .dataframe tbody tr th {\n",
              "        vertical-align: top;\n",
              "    }\n",
              "\n",
              "    .dataframe thead th {\n",
              "        text-align: right;\n",
              "    }\n",
              "</style>\n",
              "<table border=\"1\" class=\"dataframe\">\n",
              "  <thead>\n",
              "    <tr style=\"text-align: right;\">\n",
              "      <th></th>\n",
              "      <th>A</th>\n",
              "      <th>B</th>\n",
              "      <th>C</th>\n",
              "      <th>D</th>\n",
              "      <th>F</th>\n",
              "    </tr>\n",
              "  </thead>\n",
              "  <tbody>\n",
              "    <tr>\n",
              "      <th>2013-01-04</th>\n",
              "      <td>2.34572</td>\n",
              "      <td>1.282991</td>\n",
              "      <td>2.259276</td>\n",
              "      <td>10</td>\n",
              "      <td>8</td>\n",
              "    </tr>\n",
              "  </tbody>\n",
              "</table>\n",
              "</div>"
            ],
            "text/plain": [
              "                  A         B         C   D  F\n",
              "2013-01-04  2.34572  1.282991  2.259276  10  8"
            ]
          },
          "metadata": {},
          "output_type": "display_data"
        }
      ],
      "source": [
        "display(df)\n",
        "display(df['A'] > 2)\n",
        "display(df[df['A'] > 2])"
      ]
    },
    {
      "cell_type": "code",
      "execution_count": null,
      "metadata": {
        "id": "6A3dTWPyE1Pv",
        "outputId": "c4cfbf55-b2b5-4242-be29-aa41d3d6debe"
      },
      "outputs": [
        {
          "data": {
            "text/html": [
              "<div>\n",
              "<style scoped>\n",
              "    .dataframe tbody tr th:only-of-type {\n",
              "        vertical-align: middle;\n",
              "    }\n",
              "\n",
              "    .dataframe tbody tr th {\n",
              "        vertical-align: top;\n",
              "    }\n",
              "\n",
              "    .dataframe thead th {\n",
              "        text-align: right;\n",
              "    }\n",
              "</style>\n",
              "<table border=\"1\" class=\"dataframe\">\n",
              "  <thead>\n",
              "    <tr style=\"text-align: right;\">\n",
              "      <th></th>\n",
              "      <th>A</th>\n",
              "      <th>B</th>\n",
              "      <th>C</th>\n",
              "      <th>D</th>\n",
              "      <th>F</th>\n",
              "    </tr>\n",
              "  </thead>\n",
              "  <tbody>\n",
              "    <tr>\n",
              "      <th>2013-01-01</th>\n",
              "      <td>-0.476053</td>\n",
              "      <td>-0.204601</td>\n",
              "      <td>-0.636864</td>\n",
              "      <td>10</td>\n",
              "      <td>2</td>\n",
              "    </tr>\n",
              "    <tr>\n",
              "      <th>2013-01-02</th>\n",
              "      <td>0.724160</td>\n",
              "      <td>-1.374329</td>\n",
              "      <td>-0.512812</td>\n",
              "      <td>10</td>\n",
              "      <td>4</td>\n",
              "    </tr>\n",
              "    <tr>\n",
              "      <th>2013-01-03</th>\n",
              "      <td>1.232322</td>\n",
              "      <td>-0.482740</td>\n",
              "      <td>-0.102746</td>\n",
              "      <td>10</td>\n",
              "      <td>6</td>\n",
              "    </tr>\n",
              "    <tr>\n",
              "      <th>2013-01-04</th>\n",
              "      <td>2.345720</td>\n",
              "      <td>1.282991</td>\n",
              "      <td>2.259276</td>\n",
              "      <td>10</td>\n",
              "      <td>8</td>\n",
              "    </tr>\n",
              "    <tr>\n",
              "      <th>2013-01-05</th>\n",
              "      <td>0.889959</td>\n",
              "      <td>1.580214</td>\n",
              "      <td>-0.240178</td>\n",
              "      <td>10</td>\n",
              "      <td>10</td>\n",
              "    </tr>\n",
              "    <tr>\n",
              "      <th>2013-01-06</th>\n",
              "      <td>1.426385</td>\n",
              "      <td>2.382026</td>\n",
              "      <td>1.721605</td>\n",
              "      <td>10</td>\n",
              "      <td>12</td>\n",
              "    </tr>\n",
              "  </tbody>\n",
              "</table>\n",
              "</div>"
            ],
            "text/plain": [
              "                   A         B         C   D   F\n",
              "2013-01-01 -0.476053 -0.204601 -0.636864  10   2\n",
              "2013-01-02  0.724160 -1.374329 -0.512812  10   4\n",
              "2013-01-03  1.232322 -0.482740 -0.102746  10   6\n",
              "2013-01-04  2.345720  1.282991  2.259276  10   8\n",
              "2013-01-05  0.889959  1.580214 -0.240178  10  10\n",
              "2013-01-06  1.426385  2.382026  1.721605  10  12"
            ]
          },
          "metadata": {},
          "output_type": "display_data"
        },
        {
          "data": {
            "text/plain": [
              "A    False\n",
              "B    False\n",
              "C    False\n",
              "D     True\n",
              "F    False\n",
              "Name: 2013-01-01 00:00:00, dtype: bool"
            ]
          },
          "metadata": {},
          "output_type": "display_data"
        },
        {
          "name": "stderr",
          "output_type": "stream",
          "text": [
            "C:\\Users\\chest\\AppData\\Local\\Temp\\ipykernel_2576\\1057436816.py:3: UserWarning: Boolean Series key will be reindexed to match DataFrame index.\n",
            "  display(df[df.iloc[0] > 2])\n"
          ]
        },
        {
          "ename": "IndexingError",
          "evalue": "Unalignable boolean Series provided as indexer (index of the boolean Series and of the indexed object do not match).",
          "output_type": "error",
          "traceback": [
            "\u001b[1;31m---------------------------------------------------------------------------\u001b[0m",
            "\u001b[1;31mIndexingError\u001b[0m                             Traceback (most recent call last)",
            "Cell \u001b[1;32mIn[82], line 3\u001b[0m\n\u001b[0;32m      1\u001b[0m display(df)\n\u001b[0;32m      2\u001b[0m display(df\u001b[38;5;241m.\u001b[39miloc[\u001b[38;5;241m0\u001b[39m] \u001b[38;5;241m>\u001b[39m \u001b[38;5;241m2\u001b[39m)\n\u001b[1;32m----> 3\u001b[0m display(\u001b[43mdf\u001b[49m\u001b[43m[\u001b[49m\u001b[43mdf\u001b[49m\u001b[38;5;241;43m.\u001b[39;49m\u001b[43miloc\u001b[49m\u001b[43m[\u001b[49m\u001b[38;5;241;43m0\u001b[39;49m\u001b[43m]\u001b[49m\u001b[43m \u001b[49m\u001b[38;5;241;43m>\u001b[39;49m\u001b[43m \u001b[49m\u001b[38;5;241;43m2\u001b[39;49m\u001b[43m]\u001b[49m)\n",
            "File \u001b[1;32m~\\anaconda3\\lib\\site-packages\\pandas\\core\\frame.py:3798\u001b[0m, in \u001b[0;36mDataFrame.__getitem__\u001b[1;34m(self, key)\u001b[0m\n\u001b[0;32m   3796\u001b[0m \u001b[38;5;66;03m# Do we have a (boolean) 1d indexer?\u001b[39;00m\n\u001b[0;32m   3797\u001b[0m \u001b[38;5;28;01mif\u001b[39;00m com\u001b[38;5;241m.\u001b[39mis_bool_indexer(key):\n\u001b[1;32m-> 3798\u001b[0m     \u001b[38;5;28;01mreturn\u001b[39;00m \u001b[38;5;28;43mself\u001b[39;49m\u001b[38;5;241;43m.\u001b[39;49m\u001b[43m_getitem_bool_array\u001b[49m\u001b[43m(\u001b[49m\u001b[43mkey\u001b[49m\u001b[43m)\u001b[49m\n\u001b[0;32m   3800\u001b[0m \u001b[38;5;66;03m# We are left with two options: a single key, and a collection of keys,\u001b[39;00m\n\u001b[0;32m   3801\u001b[0m \u001b[38;5;66;03m# We interpret tuples as collections only for non-MultiIndex\u001b[39;00m\n\u001b[0;32m   3802\u001b[0m is_single_key \u001b[38;5;241m=\u001b[39m \u001b[38;5;28misinstance\u001b[39m(key, \u001b[38;5;28mtuple\u001b[39m) \u001b[38;5;129;01mor\u001b[39;00m \u001b[38;5;129;01mnot\u001b[39;00m is_list_like(key)\n",
            "File \u001b[1;32m~\\anaconda3\\lib\\site-packages\\pandas\\core\\frame.py:3851\u001b[0m, in \u001b[0;36mDataFrame._getitem_bool_array\u001b[1;34m(self, key)\u001b[0m\n\u001b[0;32m   3845\u001b[0m     \u001b[38;5;28;01mraise\u001b[39;00m \u001b[38;5;167;01mValueError\u001b[39;00m(\n\u001b[0;32m   3846\u001b[0m         \u001b[38;5;124mf\u001b[39m\u001b[38;5;124m\"\u001b[39m\u001b[38;5;124mItem wrong length \u001b[39m\u001b[38;5;132;01m{\u001b[39;00m\u001b[38;5;28mlen\u001b[39m(key)\u001b[38;5;132;01m}\u001b[39;00m\u001b[38;5;124m instead of \u001b[39m\u001b[38;5;132;01m{\u001b[39;00m\u001b[38;5;28mlen\u001b[39m(\u001b[38;5;28mself\u001b[39m\u001b[38;5;241m.\u001b[39mindex)\u001b[38;5;132;01m}\u001b[39;00m\u001b[38;5;124m.\u001b[39m\u001b[38;5;124m\"\u001b[39m\n\u001b[0;32m   3847\u001b[0m     )\n\u001b[0;32m   3849\u001b[0m \u001b[38;5;66;03m# check_bool_indexer will throw exception if Series key cannot\u001b[39;00m\n\u001b[0;32m   3850\u001b[0m \u001b[38;5;66;03m# be reindexed to match DataFrame rows\u001b[39;00m\n\u001b[1;32m-> 3851\u001b[0m key \u001b[38;5;241m=\u001b[39m \u001b[43mcheck_bool_indexer\u001b[49m\u001b[43m(\u001b[49m\u001b[38;5;28;43mself\u001b[39;49m\u001b[38;5;241;43m.\u001b[39;49m\u001b[43mindex\u001b[49m\u001b[43m,\u001b[49m\u001b[43m \u001b[49m\u001b[43mkey\u001b[49m\u001b[43m)\u001b[49m\n\u001b[0;32m   3852\u001b[0m indexer \u001b[38;5;241m=\u001b[39m key\u001b[38;5;241m.\u001b[39mnonzero()[\u001b[38;5;241m0\u001b[39m]\n\u001b[0;32m   3853\u001b[0m \u001b[38;5;28;01mreturn\u001b[39;00m \u001b[38;5;28mself\u001b[39m\u001b[38;5;241m.\u001b[39m_take_with_is_copy(indexer, axis\u001b[38;5;241m=\u001b[39m\u001b[38;5;241m0\u001b[39m)\n",
            "File \u001b[1;32m~\\anaconda3\\lib\\site-packages\\pandas\\core\\indexing.py:2552\u001b[0m, in \u001b[0;36mcheck_bool_indexer\u001b[1;34m(index, key)\u001b[0m\n\u001b[0;32m   2550\u001b[0m indexer \u001b[38;5;241m=\u001b[39m result\u001b[38;5;241m.\u001b[39mindex\u001b[38;5;241m.\u001b[39mget_indexer_for(index)\n\u001b[0;32m   2551\u001b[0m \u001b[38;5;28;01mif\u001b[39;00m \u001b[38;5;241m-\u001b[39m\u001b[38;5;241m1\u001b[39m \u001b[38;5;129;01min\u001b[39;00m indexer:\n\u001b[1;32m-> 2552\u001b[0m     \u001b[38;5;28;01mraise\u001b[39;00m IndexingError(\n\u001b[0;32m   2553\u001b[0m         \u001b[38;5;124m\"\u001b[39m\u001b[38;5;124mUnalignable boolean Series provided as \u001b[39m\u001b[38;5;124m\"\u001b[39m\n\u001b[0;32m   2554\u001b[0m         \u001b[38;5;124m\"\u001b[39m\u001b[38;5;124mindexer (index of the boolean Series and of \u001b[39m\u001b[38;5;124m\"\u001b[39m\n\u001b[0;32m   2555\u001b[0m         \u001b[38;5;124m\"\u001b[39m\u001b[38;5;124mthe indexed object do not match).\u001b[39m\u001b[38;5;124m\"\u001b[39m\n\u001b[0;32m   2556\u001b[0m     )\n\u001b[0;32m   2558\u001b[0m result \u001b[38;5;241m=\u001b[39m result\u001b[38;5;241m.\u001b[39mtake(indexer)\n\u001b[0;32m   2560\u001b[0m \u001b[38;5;66;03m# fall through for boolean\u001b[39;00m\n",
            "\u001b[1;31mIndexingError\u001b[0m: Unalignable boolean Series provided as indexer (index of the boolean Series and of the indexed object do not match)."
          ]
        }
      ],
      "source": [
        "display(df)\n",
        "display(df.iloc[0] > 2)\n",
        "display(df[df.iloc[0] > 2])"
      ]
    },
    {
      "cell_type": "code",
      "execution_count": null,
      "metadata": {
        "id": "HJYCtuzdE1Pv",
        "outputId": "cc7ed798-a280-4680-a690-d9a780e6a9e7"
      },
      "outputs": [
        {
          "data": {
            "text/html": [
              "<div>\n",
              "<style scoped>\n",
              "    .dataframe tbody tr th:only-of-type {\n",
              "        vertical-align: middle;\n",
              "    }\n",
              "\n",
              "    .dataframe tbody tr th {\n",
              "        vertical-align: top;\n",
              "    }\n",
              "\n",
              "    .dataframe thead th {\n",
              "        text-align: right;\n",
              "    }\n",
              "</style>\n",
              "<table border=\"1\" class=\"dataframe\">\n",
              "  <thead>\n",
              "    <tr style=\"text-align: right;\">\n",
              "      <th></th>\n",
              "      <th>A</th>\n",
              "      <th>B</th>\n",
              "      <th>C</th>\n",
              "      <th>D</th>\n",
              "      <th>F</th>\n",
              "    </tr>\n",
              "  </thead>\n",
              "  <tbody>\n",
              "    <tr>\n",
              "      <th>2013-01-01</th>\n",
              "      <td>-0.476053</td>\n",
              "      <td>-0.204601</td>\n",
              "      <td>-0.636864</td>\n",
              "      <td>10</td>\n",
              "      <td>2</td>\n",
              "    </tr>\n",
              "    <tr>\n",
              "      <th>2013-01-02</th>\n",
              "      <td>0.724160</td>\n",
              "      <td>-1.374329</td>\n",
              "      <td>-0.512812</td>\n",
              "      <td>10</td>\n",
              "      <td>4</td>\n",
              "    </tr>\n",
              "    <tr>\n",
              "      <th>2013-01-03</th>\n",
              "      <td>1.232322</td>\n",
              "      <td>-0.482740</td>\n",
              "      <td>-0.102746</td>\n",
              "      <td>10</td>\n",
              "      <td>6</td>\n",
              "    </tr>\n",
              "    <tr>\n",
              "      <th>2013-01-04</th>\n",
              "      <td>2.345720</td>\n",
              "      <td>1.282991</td>\n",
              "      <td>2.259276</td>\n",
              "      <td>10</td>\n",
              "      <td>8</td>\n",
              "    </tr>\n",
              "    <tr>\n",
              "      <th>2013-01-05</th>\n",
              "      <td>0.889959</td>\n",
              "      <td>1.580214</td>\n",
              "      <td>-0.240178</td>\n",
              "      <td>10</td>\n",
              "      <td>10</td>\n",
              "    </tr>\n",
              "    <tr>\n",
              "      <th>2013-01-06</th>\n",
              "      <td>1.426385</td>\n",
              "      <td>2.382026</td>\n",
              "      <td>1.721605</td>\n",
              "      <td>10</td>\n",
              "      <td>12</td>\n",
              "    </tr>\n",
              "  </tbody>\n",
              "</table>\n",
              "</div>"
            ],
            "text/plain": [
              "                   A         B         C   D   F\n",
              "2013-01-01 -0.476053 -0.204601 -0.636864  10   2\n",
              "2013-01-02  0.724160 -1.374329 -0.512812  10   4\n",
              "2013-01-03  1.232322 -0.482740 -0.102746  10   6\n",
              "2013-01-04  2.345720  1.282991  2.259276  10   8\n",
              "2013-01-05  0.889959  1.580214 -0.240178  10  10\n",
              "2013-01-06  1.426385  2.382026  1.721605  10  12"
            ]
          },
          "metadata": {},
          "output_type": "display_data"
        },
        {
          "data": {
            "text/plain": [
              "A    False\n",
              "B    False\n",
              "C    False\n",
              "D     True\n",
              "F    False\n",
              "Name: 2013-01-01 00:00:00, dtype: bool"
            ]
          },
          "metadata": {},
          "output_type": "display_data"
        },
        {
          "data": {
            "text/html": [
              "<div>\n",
              "<style scoped>\n",
              "    .dataframe tbody tr th:only-of-type {\n",
              "        vertical-align: middle;\n",
              "    }\n",
              "\n",
              "    .dataframe tbody tr th {\n",
              "        vertical-align: top;\n",
              "    }\n",
              "\n",
              "    .dataframe thead th {\n",
              "        text-align: right;\n",
              "    }\n",
              "</style>\n",
              "<table border=\"1\" class=\"dataframe\">\n",
              "  <thead>\n",
              "    <tr style=\"text-align: right;\">\n",
              "      <th></th>\n",
              "      <th>D</th>\n",
              "    </tr>\n",
              "  </thead>\n",
              "  <tbody>\n",
              "    <tr>\n",
              "      <th>2013-01-01</th>\n",
              "      <td>10</td>\n",
              "    </tr>\n",
              "    <tr>\n",
              "      <th>2013-01-02</th>\n",
              "      <td>10</td>\n",
              "    </tr>\n",
              "    <tr>\n",
              "      <th>2013-01-03</th>\n",
              "      <td>10</td>\n",
              "    </tr>\n",
              "    <tr>\n",
              "      <th>2013-01-04</th>\n",
              "      <td>10</td>\n",
              "    </tr>\n",
              "    <tr>\n",
              "      <th>2013-01-05</th>\n",
              "      <td>10</td>\n",
              "    </tr>\n",
              "    <tr>\n",
              "      <th>2013-01-06</th>\n",
              "      <td>10</td>\n",
              "    </tr>\n",
              "  </tbody>\n",
              "</table>\n",
              "</div>"
            ],
            "text/plain": [
              "             D\n",
              "2013-01-01  10\n",
              "2013-01-02  10\n",
              "2013-01-03  10\n",
              "2013-01-04  10\n",
              "2013-01-05  10\n",
              "2013-01-06  10"
            ]
          },
          "metadata": {},
          "output_type": "display_data"
        }
      ],
      "source": [
        "display(df)\n",
        "display(df.iloc[0] > 2)\n",
        "display(df.loc[:, df.iloc[0] > 2])"
      ]
    },
    {
      "cell_type": "code",
      "execution_count": null,
      "metadata": {
        "id": "0XoY_ZQdE1Pv",
        "outputId": "6c461089-ac70-4d14-fe25-4f5f3d49dab6"
      },
      "outputs": [
        {
          "data": {
            "text/html": [
              "<div>\n",
              "<style scoped>\n",
              "    .dataframe tbody tr th:only-of-type {\n",
              "        vertical-align: middle;\n",
              "    }\n",
              "\n",
              "    .dataframe tbody tr th {\n",
              "        vertical-align: top;\n",
              "    }\n",
              "\n",
              "    .dataframe thead th {\n",
              "        text-align: right;\n",
              "    }\n",
              "</style>\n",
              "<table border=\"1\" class=\"dataframe\">\n",
              "  <thead>\n",
              "    <tr style=\"text-align: right;\">\n",
              "      <th></th>\n",
              "      <th>A</th>\n",
              "      <th>B</th>\n",
              "      <th>C</th>\n",
              "      <th>D</th>\n",
              "      <th>F</th>\n",
              "    </tr>\n",
              "  </thead>\n",
              "  <tbody>\n",
              "    <tr>\n",
              "      <th>2013-01-01</th>\n",
              "      <td>-0.476053</td>\n",
              "      <td>-0.204601</td>\n",
              "      <td>-0.636864</td>\n",
              "      <td>10</td>\n",
              "      <td>2</td>\n",
              "    </tr>\n",
              "    <tr>\n",
              "      <th>2013-01-02</th>\n",
              "      <td>0.724160</td>\n",
              "      <td>-1.374329</td>\n",
              "      <td>-0.512812</td>\n",
              "      <td>10</td>\n",
              "      <td>4</td>\n",
              "    </tr>\n",
              "    <tr>\n",
              "      <th>2013-01-03</th>\n",
              "      <td>1.232322</td>\n",
              "      <td>-0.482740</td>\n",
              "      <td>-0.102746</td>\n",
              "      <td>10</td>\n",
              "      <td>6</td>\n",
              "    </tr>\n",
              "    <tr>\n",
              "      <th>2013-01-04</th>\n",
              "      <td>2.345720</td>\n",
              "      <td>1.282991</td>\n",
              "      <td>2.259276</td>\n",
              "      <td>10</td>\n",
              "      <td>8</td>\n",
              "    </tr>\n",
              "    <tr>\n",
              "      <th>2013-01-05</th>\n",
              "      <td>0.889959</td>\n",
              "      <td>1.580214</td>\n",
              "      <td>-0.240178</td>\n",
              "      <td>10</td>\n",
              "      <td>10</td>\n",
              "    </tr>\n",
              "    <tr>\n",
              "      <th>2013-01-06</th>\n",
              "      <td>1.426385</td>\n",
              "      <td>2.382026</td>\n",
              "      <td>1.721605</td>\n",
              "      <td>10</td>\n",
              "      <td>12</td>\n",
              "    </tr>\n",
              "  </tbody>\n",
              "</table>\n",
              "</div>"
            ],
            "text/plain": [
              "                   A         B         C   D   F\n",
              "2013-01-01 -0.476053 -0.204601 -0.636864  10   2\n",
              "2013-01-02  0.724160 -1.374329 -0.512812  10   4\n",
              "2013-01-03  1.232322 -0.482740 -0.102746  10   6\n",
              "2013-01-04  2.345720  1.282991  2.259276  10   8\n",
              "2013-01-05  0.889959  1.580214 -0.240178  10  10\n",
              "2013-01-06  1.426385  2.382026  1.721605  10  12"
            ]
          },
          "metadata": {},
          "output_type": "display_data"
        },
        {
          "data": {
            "text/plain": [
              "A    False\n",
              "B    False\n",
              "C    False\n",
              "D     True\n",
              "F    False\n",
              "dtype: bool"
            ]
          },
          "metadata": {},
          "output_type": "display_data"
        },
        {
          "data": {
            "text/html": [
              "<div>\n",
              "<style scoped>\n",
              "    .dataframe tbody tr th:only-of-type {\n",
              "        vertical-align: middle;\n",
              "    }\n",
              "\n",
              "    .dataframe tbody tr th {\n",
              "        vertical-align: top;\n",
              "    }\n",
              "\n",
              "    .dataframe thead th {\n",
              "        text-align: right;\n",
              "    }\n",
              "</style>\n",
              "<table border=\"1\" class=\"dataframe\">\n",
              "  <thead>\n",
              "    <tr style=\"text-align: right;\">\n",
              "      <th></th>\n",
              "      <th>D</th>\n",
              "    </tr>\n",
              "  </thead>\n",
              "  <tbody>\n",
              "    <tr>\n",
              "      <th>2013-01-01</th>\n",
              "      <td>10</td>\n",
              "    </tr>\n",
              "    <tr>\n",
              "      <th>2013-01-02</th>\n",
              "      <td>10</td>\n",
              "    </tr>\n",
              "    <tr>\n",
              "      <th>2013-01-03</th>\n",
              "      <td>10</td>\n",
              "    </tr>\n",
              "    <tr>\n",
              "      <th>2013-01-04</th>\n",
              "      <td>10</td>\n",
              "    </tr>\n",
              "    <tr>\n",
              "      <th>2013-01-05</th>\n",
              "      <td>10</td>\n",
              "    </tr>\n",
              "    <tr>\n",
              "      <th>2013-01-06</th>\n",
              "      <td>10</td>\n",
              "    </tr>\n",
              "  </tbody>\n",
              "</table>\n",
              "</div>"
            ],
            "text/plain": [
              "             D\n",
              "2013-01-01  10\n",
              "2013-01-02  10\n",
              "2013-01-03  10\n",
              "2013-01-04  10\n",
              "2013-01-05  10\n",
              "2013-01-06  10"
            ]
          },
          "metadata": {},
          "output_type": "display_data"
        }
      ],
      "source": [
        "# Поэлементные логические операции\n",
        "# & - логическое и\n",
        "# | - логическое или\n",
        "\n",
        "display(df)\n",
        "display((df.iloc[0] > 2) & (df.iloc[1] > 2))\n",
        "display(df.loc[:, (df.iloc[0] > 2) & (df.iloc[1] > 2)])"
      ]
    },
    {
      "cell_type": "code",
      "execution_count": null,
      "metadata": {
        "colab": {
          "base_uri": "https://localhost:8080/"
        },
        "id": "vKiRvMhhbqVW",
        "outputId": "b564b4c5-b7cc-47d4-c711-a09a13902fcf"
      },
      "outputs": [
        {
          "data": {
            "text/plain": [
              "A     1.023749\n",
              "B     0.530593\n",
              "C     0.414713\n",
              "D    10.000000\n",
              "F     7.000000\n",
              "dtype: float64"
            ]
          },
          "execution_count": 85,
          "metadata": {},
          "output_type": "execute_result"
        }
      ],
      "source": [
        "# Операции с DataFrame\n",
        "df.mean()"
      ]
    },
    {
      "cell_type": "markdown",
      "metadata": {
        "id": "jpTttJE7E1Pv"
      },
      "source": [
        "# Sklearn"
      ]
    },
    {
      "cell_type": "code",
      "execution_count": null,
      "metadata": {
        "id": "gWYafEGeoCx6"
      },
      "outputs": [],
      "source": [
        "from sklearn.linear_model import SGDRegressor"
      ]
    },
    {
      "cell_type": "code",
      "execution_count": null,
      "metadata": {
        "id": "dMJNQyL8oC0D"
      },
      "outputs": [],
      "source": [
        "from sklearn.preprocessing import PolynomialFeatures\n",
        "from sklearn.metrics import mean_squared_error"
      ]
    },
    {
      "cell_type": "code",
      "execution_count": null,
      "metadata": {
        "colab": {
          "base_uri": "https://localhost:8080/",
          "height": 424
        },
        "id": "o0EqS_x1AuSk",
        "outputId": "0e6b4a82-ac87-4588-974b-48db03c70e98"
      },
      "outputs": [
        {
          "data": {
            "text/html": [
              "<div>\n",
              "<style scoped>\n",
              "    .dataframe tbody tr th:only-of-type {\n",
              "        vertical-align: middle;\n",
              "    }\n",
              "\n",
              "    .dataframe tbody tr th {\n",
              "        vertical-align: top;\n",
              "    }\n",
              "\n",
              "    .dataframe thead th {\n",
              "        text-align: right;\n",
              "    }\n",
              "</style>\n",
              "<table border=\"1\" class=\"dataframe\">\n",
              "  <thead>\n",
              "    <tr style=\"text-align: right;\">\n",
              "      <th></th>\n",
              "      <th>X</th>\n",
              "      <th>Y</th>\n",
              "    </tr>\n",
              "  </thead>\n",
              "  <tbody>\n",
              "    <tr>\n",
              "      <th>0</th>\n",
              "      <td>0</td>\n",
              "      <td>-1.0</td>\n",
              "    </tr>\n",
              "    <tr>\n",
              "      <th>1</th>\n",
              "      <td>1</td>\n",
              "      <td>-0.4</td>\n",
              "    </tr>\n",
              "    <tr>\n",
              "      <th>2</th>\n",
              "      <td>2</td>\n",
              "      <td>0.4</td>\n",
              "    </tr>\n",
              "    <tr>\n",
              "      <th>3</th>\n",
              "      <td>3</td>\n",
              "      <td>1.4</td>\n",
              "    </tr>\n",
              "    <tr>\n",
              "      <th>4</th>\n",
              "      <td>4</td>\n",
              "      <td>2.6</td>\n",
              "    </tr>\n",
              "    <tr>\n",
              "      <th>...</th>\n",
              "      <td>...</td>\n",
              "      <td>...</td>\n",
              "    </tr>\n",
              "    <tr>\n",
              "      <th>95</th>\n",
              "      <td>95</td>\n",
              "      <td>949.0</td>\n",
              "    </tr>\n",
              "    <tr>\n",
              "      <th>96</th>\n",
              "      <td>96</td>\n",
              "      <td>968.6</td>\n",
              "    </tr>\n",
              "    <tr>\n",
              "      <th>97</th>\n",
              "      <td>97</td>\n",
              "      <td>988.4</td>\n",
              "    </tr>\n",
              "    <tr>\n",
              "      <th>98</th>\n",
              "      <td>98</td>\n",
              "      <td>1008.4</td>\n",
              "    </tr>\n",
              "    <tr>\n",
              "      <th>99</th>\n",
              "      <td>99</td>\n",
              "      <td>1028.6</td>\n",
              "    </tr>\n",
              "  </tbody>\n",
              "</table>\n",
              "<p>100 rows × 2 columns</p>\n",
              "</div>"
            ],
            "text/plain": [
              "     X       Y\n",
              "0    0    -1.0\n",
              "1    1    -0.4\n",
              "2    2     0.4\n",
              "3    3     1.4\n",
              "4    4     2.6\n",
              "..  ..     ...\n",
              "95  95   949.0\n",
              "96  96   968.6\n",
              "97  97   988.4\n",
              "98  98  1008.4\n",
              "99  99  1028.6\n",
              "\n",
              "[100 rows x 2 columns]"
            ]
          },
          "execution_count": 88,
          "metadata": {},
          "output_type": "execute_result"
        }
      ],
      "source": [
        "X = np.arange(0, 100)\n",
        "Y = 0.1 * X ** 2 + 0.5 * X - 1\n",
        "\n",
        "df = pd.DataFrame({'X': X, 'Y': Y})\n",
        "df"
      ]
    },
    {
      "cell_type": "code",
      "execution_count": null,
      "metadata": {
        "colab": {
          "base_uri": "https://localhost:8080/"
        },
        "id": "pEPp-Zb5t3xv",
        "outputId": "8f0d9e4f-65d9-4a6c-983f-b97b0f07ac02"
      },
      "outputs": [
        {
          "name": "stdout",
          "output_type": "stream",
          "text": [
            "Learning rate: 1000.0, loss: 8.733917219313669e+41\n",
            "Learning rate: 10.0, loss: 5.08163372376486e+38\n",
            "Learning rate: 0.1, loss: 6.94951560104239e+34\n",
            "Learning rate: 0.001, loss: 1.520869614142164e+30\n",
            "Learning rate: 1e-05, loss: 4.650582783193404e+26\n",
            "Learning rate: 1e-06, loss: 4.001514083821806e+24\n",
            "Learning rate: 1e-07, loss: 41.92891271405132\n",
            "Learning rate: 1e-08, loss: 43.46375957702472\n",
            "Learning rate: 1e-09, loss: 43.23470059389904\n"
          ]
        }
      ],
      "source": [
        "lr = [1e3, 1e1, 1e-1, 1e-3, 1e-5, 1e-6, 1e-7, 1e-8, 1e-9]\n",
        "poly = PolynomialFeatures(2)\n",
        "\n",
        "for i in lr:\n",
        "    model = SGDRegressor(eta0=i)\n",
        "    model.fit(poly.fit_transform(df.iloc[:, 0:1]), df.Y)\n",
        "    Y_pred = model.predict(poly.fit_transform(df.iloc[:, 0:1]))\n",
        "    loss = mean_squared_error(df.Y, Y_pred)\n",
        "    print(f'Learning rate: {i}, loss: {loss}')"
      ]
    },
    {
      "cell_type": "code",
      "execution_count": null,
      "metadata": {
        "colab": {
          "base_uri": "https://localhost:8080/"
        },
        "id": "Dbq2w2l6BiaQ",
        "outputId": "f8e6f57b-0d50-47f8-de90-f57a337babbd"
      },
      "outputs": [
        {
          "name": "stdout",
          "output_type": "stream",
          "text": [
            "Learning rate: 1000.0, loss: 8.28667958422859e+42\n",
            "Learning rate: 10.0, loss: 1.9159502694393417e+38\n",
            "Learning rate: 0.1, loss: 1.2875869831181129e+34\n",
            "Learning rate: 0.001, loss: 4.4907683649852556e+30\n",
            "Learning rate: 1e-05, loss: 8.915166591268353e+22\n",
            "Learning rate: 1e-06, loss: 5.023288198695955e+20\n",
            "Learning rate: 1e-07, loss: 44.92206661952276\n",
            "Learning rate: 1e-08, loss: 43.240707723520906\n",
            "Learning rate: 1e-09, loss: 43.237325391370625\n"
          ]
        }
      ],
      "source": [
        "lr = [1e3, 1e1, 1e-1, 1e-3, 1e-5, 1e-6, 1e-7, 1e-8, 1e-9]\n",
        "\n",
        "for i in lr:\n",
        "    model = SGDRegressor(eta0=i)\n",
        "    model.fit(poly.fit_transform(X.reshape(-1, 1)), Y)\n",
        "    Y_pred = model.predict(poly.fit_transform(X.reshape(-1, 1)))\n",
        "    loss = mean_squared_error(Y, Y_pred)\n",
        "    print(f'Learning rate: {i}, loss: {loss}')"
      ]
    },
    {
      "cell_type": "code",
      "execution_count": null,
      "metadata": {
        "id": "6fjqOmHO-7bf"
      },
      "outputs": [],
      "source": [
        "model = SGDRegressor(eta0=1e-9)\n",
        "model.fit(poly.fit_transform(X.reshape(-1, 1)), Y)\n",
        "Y_pred = model.predict(poly.fit_transform(X.reshape(-1, 1)))"
      ]
    },
    {
      "cell_type": "code",
      "execution_count": null,
      "metadata": {
        "colab": {
          "base_uri": "https://localhost:8080/",
          "height": 592
        },
        "id": "jUmIScKLuKtz",
        "outputId": "581d139c-5428-4c80-f483-56d2bfd9d92e",
        "scrolled": true
      },
      "outputs": [
        {
          "data": {
            "image/png": "[encoded data removed]",
            "text/plain": [
              "<Figure size 1500x1000 with 1 Axes>"
            ]
          },
          "metadata": {},
          "output_type": "display_data"
        }
      ],
      "source": [
        "from matplotlib import pyplot as plt\n",
        "\n",
        "fig, ax = plt.subplots(figsize=(15, 10))\n",
        "\n",
        "ax.scatter(X, Y, c='r')\n",
        "ax.plot(X, Y_pred)\n",
        "plt.show()"
      ]
    },
    {
      "cell_type": "markdown",
      "metadata": {
        "id": "LdXRo34Z1p7I"
      },
      "source": [
        "# Полезные функции"
      ]
    },
    {
      "cell_type": "code",
      "execution_count": null,
      "metadata": {
        "id": "_UG8fgRp1p7J",
        "outputId": "11c0cdea-e9cc-4636-f9a0-71bf670db27e"
      },
      "outputs": [
        {
          "name": "stdout",
          "output_type": "stream",
          "text": [
            "[1, 2, 3, 4, 5, 6, 7]\n"
          ]
        }
      ],
      "source": [
        "# Функция \"map\"\n",
        "\n",
        "a = ['1', '2', '3', '4', '5', '6', '7']\n",
        "b = list(map(int, a))\n",
        "\n",
        "print(b)"
      ]
    },
    {
      "cell_type": "code",
      "execution_count": null,
      "metadata": {
        "id": "NqoO-NfO1p7J",
        "outputId": "d5e7254c-16a2-4265-a09e-479a7c9cb266"
      },
      "outputs": [
        {
          "name": "stdout",
          "output_type": "stream",
          "text": [
            "[3, 6, 11, 18, 27, 38, 51]\n"
          ]
        }
      ],
      "source": [
        "# Функция \"lambda\"\n",
        "\n",
        "a = [1, 2, 3, 4, 5, 6, 7]\n",
        "b = list(map(lambda x: x ** 2 + 2, a))\n",
        "\n",
        "\n",
        "print(b)"
      ]
    },
    {
      "cell_type": "code",
      "execution_count": null,
      "metadata": {
        "id": "Q-5Q1Jy41p7J",
        "outputId": "4311f91c-4b77-49ec-fdb8-eeddc34630bb"
      },
      "outputs": [
        {
          "name": "stdout",
          "output_type": "stream",
          "text": [
            "[1, 3, 5, 7]\n"
          ]
        }
      ],
      "source": [
        "# Функция \"filter\"\n",
        "\n",
        "a = [1, 2, 3, 4, 5, 6, 7]\n",
        "b = list(filter(lambda x: x % 2, a))\n",
        "\n",
        "print (b)"
      ]
    },
    {
      "cell_type": "code",
      "execution_count": null,
      "metadata": {
        "id": "dTPITwyQ1p7J",
        "outputId": "0d1f44ff-3d3b-463a-fd45-7a68714f9e8d"
      },
      "outputs": [
        {
          "name": "stdout",
          "output_type": "stream",
          "text": [
            "14\n"
          ]
        }
      ],
      "source": [
        "# Функция \"reduce\"\n",
        "\n",
        "from functools import reduce\n",
        "\n",
        "a = [1, 2, 3]\n",
        "b = reduce(lambda x,y: x + y ** 2, a)\n",
        "\n",
        "print (b)"
      ]
    },
    {
      "cell_type": "code",
      "execution_count": null,
      "metadata": {
        "id": "VkzHihoK1p7J",
        "outputId": "f6d29c11-a58e-4c47-d031-073e02a9b807"
      },
      "outputs": [
        {
          "name": "stdout",
          "output_type": "stream",
          "text": [
            "[(1, 4, 7), (2, 5, 8)]\n"
          ]
        }
      ],
      "source": [
        "# Функция \"zip\"\n",
        "\n",
        "a = [1,2,3]\n",
        "b = [4,5,6]\n",
        "c = [7,8]\n",
        "res = list(zip(a, b, c))\n",
        "\n",
        "print (res)"
      ]
    }
  ],
  "metadata": {
    "colab": {
      "name": "python_get_started.ipynb",
      "provenance": []
    },
    "kernelspec": {
      "display_name": "Python 3 (ipykernel)",
      "language": "python",
      "name": "python3"
    },
    "language_info": {
      "codemirror_mode": {
        "name": "ipython",
        "version": 3
      },
      "file_extension": ".py",
      "mimetype": "text/x-python",
      "name": "python",
      "nbconvert_exporter": "python",
      "pygments_lexer": "ipython3",
      "version": "3.10.9"
    },
    "varInspector": {
      "cols": {
        "lenName": 16,
        "lenType": 16,
        "lenVar": 40
      },
      "kernels_config": {
        "python": {
          "delete_cmd_postfix": "",
          "delete_cmd_prefix": "del ",
          "library": "var_list.py",
          "varRefreshCmd": "print(var_dic_list())"
        },
        "r": {
          "delete_cmd_postfix": ") ",
          "delete_cmd_prefix": "rm(",
          "library": "var_list.r",
          "varRefreshCmd": "cat(var_dic_list()) "
        }
      },
      "types_to_exclude": [
        "module",
        "function",
        "builtin_function_or_method",
        "instance",
        "_Feature"
      ],
      "window_display": false
    }
  },
  "nbformat": 4,
  "nbformat_minor": 0
}