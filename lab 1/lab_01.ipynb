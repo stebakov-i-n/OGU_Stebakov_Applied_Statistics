{
  "nbformat": 4,
  "nbformat_minor": 0,
  "metadata": {
    "colab": {
      "provenance": []
    },
    "kernelspec": {
      "name": "python3",
      "display_name": "Python 3"
    },
    "language_info": {
      "name": "python"
    }
  },
  "cells": [
    {
      "cell_type": "markdown",
      "source": [
        "# **Описательная статистика с помощью библиотек numpy, pandas и seaborn**\n",
        "\n",
        "\n",
        "\n"
      ],
      "metadata": {
        "id": "vXpgv1GqHskW"
      }
    },
    {
      "cell_type": "code",
      "source": [
        "import numpy as np\n",
        "import pandas as pd\n",
        "import seaborn as sns\n",
        "import matplotlib.pyplot as plt"
      ],
      "metadata": {
        "id": "Eg9OklAtqq5Q"
      },
      "execution_count": null,
      "outputs": []
    },
    {
      "cell_type": "markdown",
      "source": [
        "*Исходные* данные: https://www.kaggle.com/datasets/nelgiriyewithana/new-york-housing-market"
      ],
      "metadata": {
        "id": "EyA1Ne8WaAGP"
      }
    },
    {
      "cell_type": "code",
      "source": [
        "data = pd.read_csv('/content/NY-House-Dataset.csv.zip')"
      ],
      "metadata": {
        "id": "rHvJ2Bqzq08b"
      },
      "execution_count": null,
      "outputs": []
    },
    {
      "cell_type": "code",
      "source": [
        "# data.info()"
      ],
      "metadata": {
        "id": "Oqpw9DjUydQv"
      },
      "execution_count": null,
      "outputs": []
    },
    {
      "cell_type": "markdown",
      "source": [
        "Определить обем выборки."
      ],
      "metadata": {
        "id": "weOB6kt2xS12"
      }
    },
    {
      "cell_type": "code",
      "source": [
        "n = data.shape[0]\n",
        "print(f'n={n}')"
      ],
      "metadata": {
        "colab": {
          "base_uri": "https://localhost:8080/"
        },
        "id": "QvGNh6yzxS7t",
        "outputId": "da0add85-d592-48a6-9b11-ef9dc34afff5"
      },
      "execution_count": null,
      "outputs": [
        {
          "output_type": "stream",
          "name": "stdout",
          "text": [
            "n=4801\n"
          ]
        }
      ]
    },
    {
      "cell_type": "markdown",
      "source": [
        "**Рассчитать меры центральной тенденции для переменной PRICE:**\n",
        "*  среднее выборочное;\n",
        "*  моду;\n",
        "*  медиану."
      ],
      "metadata": {
        "id": "BOr--FusIjZ5"
      }
    },
    {
      "cell_type": "markdown",
      "source": [
        "**Рассчитать меры изменчивости для переменной PRICE:**\n",
        "*  размах;\n",
        "*  исправленную выборочную дисперсию, выборочное СКО;\n",
        "*  медианный разброс относительно медианы (mad)."
      ],
      "metadata": {
        "id": "73rdonFgI8UM"
      }
    },
    {
      "cell_type": "code",
      "source": [],
      "metadata": {
        "id": "GkUvFMLSVr0u"
      },
      "execution_count": null,
      "outputs": []
    },
    {
      "cell_type": "markdown",
      "source": [
        "Сравните полученные результаты между собой."
      ],
      "metadata": {
        "id": "_hTB4OcJJc_P"
      }
    },
    {
      "cell_type": "code",
      "source": [],
      "metadata": {
        "id": "kC-TKpuLXLAf"
      },
      "execution_count": null,
      "outputs": []
    },
    {
      "cell_type": "code",
      "source": [
        "# data.columns"
      ],
      "metadata": {
        "id": "QTQwOsAarJTO"
      },
      "execution_count": null,
      "outputs": []
    },
    {
      "cell_type": "markdown",
      "source": [
        "**Визуализация распределения**\n",
        "\n",
        "Изучите функцию histplot() библиотеки seaborn: https://seaborn.pydata.org/generated/seaborn.histplot.html\n",
        "\n",
        "\n",
        "*  Построить гистограмму частот (или относительных частот) для переменной PRICE. При необходимости предварительно можно применить операцию логарифмирования, для этого можно использовать функцию np.log1p().\n",
        "\n",
        "*   Объясните чем преобразование переменной PRICE может быть полезно в данном или подобных случаях?\n",
        "*   Запишите новую переменную Log_price в DataFrame.\n",
        "\n"
      ],
      "metadata": {
        "id": "-c-8daUW8M6R"
      }
    },
    {
      "cell_type": "code",
      "source": [
        "# data['logprice'] ="
      ],
      "metadata": {
        "id": "tH3N0Wp0rMMr"
      },
      "execution_count": null,
      "outputs": []
    },
    {
      "cell_type": "markdown",
      "source": [
        "**Очистка данных:**\n",
        "*   Найдите явные \"выбросы\" в значениях переменной PRICE.\n",
        "\n",
        "*   Выведите на печать строки данных с такими \"выбросами\". Сколько строчек с \"выбросами\"? Что характерно для этих данных?\n",
        "\n",
        "* Удалите эти данные из DataFrame.\n",
        "\n"
      ],
      "metadata": {
        "id": "-KzG4bt5AG2w"
      }
    },
    {
      "cell_type": "code",
      "source": [],
      "metadata": {
        "id": "vu4UTMB1C0jT"
      },
      "execution_count": null,
      "outputs": []
    },
    {
      "cell_type": "markdown",
      "source": [
        "**После удаления выбросов представьте данные графически:**\n",
        "\n",
        "*   Постройте гистограмму частот (относительных частот) для признака Log_price.\n",
        "*  На этом же графике постройте кривую плотности распределения.\n",
        "*   Судя по гистограмме (и кривой плотности распределения), сформулируйте гипотезу о виде распределения переменной Log_price.\n",
        "*   На этом же графике отметьте границы согласно правилу *3-сигм*.\n",
        "*   Удалите из DataFrame все данные, выходящие за пределы границ $[\\mu-3\\sigma;\\mu+3\\sigma]$"
      ],
      "metadata": {
        "id": "dzCQ6MZw7-Lj"
      }
    },
    {
      "cell_type": "code",
      "source": [],
      "metadata": {
        "id": "TK7bsHAd79e4"
      },
      "execution_count": null,
      "outputs": []
    },
    {
      "cell_type": "code",
      "source": [],
      "metadata": {
        "id": "10hOU3_V_xBs"
      },
      "execution_count": null,
      "outputs": []
    },
    {
      "cell_type": "markdown",
      "source": [
        "Какое количество примеров осталось в выборке, какая доля примеров была отброшена?"
      ],
      "metadata": {
        "id": "7uyiwahkDFXR"
      }
    },
    {
      "cell_type": "code",
      "source": [],
      "metadata": {
        "id": "MPMnyH2HDZ-f"
      },
      "execution_count": null,
      "outputs": []
    },
    {
      "cell_type": "code",
      "source": [],
      "metadata": {
        "id": "IrAhGRQbWtkN"
      },
      "execution_count": null,
      "outputs": []
    },
    {
      "cell_type": "markdown",
      "source": [
        "**После удаления выбросов представить распределение переменной Logprice, используя диаграмму box-plot, при этом стратифицировать данные по признаку BEDS или BATH.**\n",
        "\n",
        "\n",
        "*   Охарактеризуйте полученный график, как изменяется переменная logprice от признака BEDS (или BATH).\n",
        "*   Какие преимущества имеет диаграмма box-plot по сравнению с гистограммой?\n",
        "\n",
        "см. описание функции https://seaborn.pydata.org/generated/seaborn.boxplot.html"
      ],
      "metadata": {
        "id": "AxcOuCxVDaP9"
      }
    },
    {
      "cell_type": "code",
      "source": [],
      "metadata": {
        "id": "9GHFBYQqxwBR"
      },
      "execution_count": null,
      "outputs": []
    },
    {
      "cell_type": "markdown",
      "source": [
        "**Примерные контрольные вопросы**\n",
        "1. Понятие случайной величины.\n",
        "2. Понятие генеральной совокупности, выборки, суть выборочного метода.\n",
        "3. Графические способы представления выборки (для дискретной и непрерывной величин).\n",
        "4. Меры центральной тенденции. Сравнение выборочного среднего с медианой и модой.\n",
        "5. Оценки разброса. Сравнение выборочного СКО и медианного отклонения от медианы.\n",
        "6. Правило трех-сигм.\n"
      ],
      "metadata": {
        "id": "8n_g3onKnv4j"
      }
    }
  ]
}