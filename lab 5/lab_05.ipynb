{
  "cells": [
    {
      "cell_type": "markdown",
      "metadata": {
        "id": "OoA92IczVuQQ"
      },
      "source": [
        "### Выборочный коэффициент Корреляции"
      ]
    },
    {
      "cell_type": "code",
      "execution_count": null,
      "metadata": {
        "colab": {
          "base_uri": "https://localhost:8080/",
          "height": 524
        },
        "id": "AUyExGOGhJcM",
        "outputId": "a80efc67-4901-4d63-c552-70fc40c12909"
      },
      "outputs": [],
      "source": [
        "import numpy as np\n",
        "from scipy import stats\n",
        "import matplotlib.pyplot as plt\n",
        "\n",
        "# Исходные данные\n",
        "?\n",
        "\n",
        "# 1. Расчет коэффициента корреляции Пирсона\n",
        "\n",
        "def corr(x1, x2):\n",
        "    r = ?\n",
        "    n = len(x1)\n",
        "    df = n - 2\n",
        "    t_stat = r / np.sqrt((1 - r**2) / df)\n",
        "    p_value = ?\n",
        "    return p_value, r\n",
        "\n",
        "p_value, corr_coef = corr(data1, data2)\n",
        "\n",
        "print(f\"Коэффициент корреляции Пирсона: {corr_coef:.3f}\")\n",
        "print(f\"p-значение: {p_value:.4f}\")\n",
        "\n",
        "# 2. Проверка значимости (α = 0.05)\n",
        "alpha = 0.05\n",
        "if p_value < alpha:\n",
        "    print(\"Коэффициент корреляции ???\")\n",
        "else:\n",
        "    print(\"Коэффициент корреляции ???\")\n",
        "\n",
        "# 3. Визуализация\n",
        "plt.scatter(?)\n",
        "plt.title(\"??\")\n",
        "plt.xlabel(\"??\")\n",
        "plt.ylabel(\"??\")\n",
        "plt.grid(True)\n",
        "plt.show()"
      ]
    },
    {
      "cell_type": "markdown",
      "metadata": {
        "id": "ICFIXY_QWYXU"
      },
      "source": [
        "### Проверка линейности корреляционной связи\n"
      ]
    },
    {
      "cell_type": "code",
      "execution_count": null,
      "metadata": {
        "colab": {
          "base_uri": "https://localhost:8080/",
          "height": 524
        },
        "id": "Kt14tzEFkPAY",
        "outputId": "e1b4e4a6-0ec2-4d1b-906c-e0a329660b13"
      },
      "outputs": [],
      "source": [
        "import numpy as np\n",
        "from scipy import stats\n",
        "\n",
        "# Исходные данные\n",
        "?\n",
        "\n",
        "# 1. Подготовка данных: преобразуем в плоские массивы\n",
        "?\n",
        "\n",
        "# 2. Коэффициент корреляции Пирсона (r)\n",
        "p_value, r = corr(data1, data2)\n",
        "print(f\"Коэффициент корреляции Пирсона (r): {r:.3f}\")\n",
        "\n",
        "# 3. Корреляционное отношение (η)\n",
        "def correlation_ratio(X, Y):\n",
        "    ?\n",
        "    return eta\n",
        "\n",
        "eta = correlation_ratio(data1, data2)\n",
        "print(f\"Корреляционное отношение (η): {eta:.3f}\")\n",
        "\n",
        "# 4. Проверка линейности\n",
        "if np.isclose(eta, abs(r), atol=0.1):\n",
        "    print(\"Связь ??\")\n",
        "else:\n",
        "    print(\"Связь ??\")\n",
        "\n",
        "import matplotlib.pyplot as plt\n",
        "\n",
        "plt.scatter(?)\n",
        "plt.title(\"??\")\n",
        "plt.xlabel(\"??\")\n",
        "plt.ylabel(\"??\")\n",
        "plt.grid(True)\n",
        "plt.show()"
      ]
    },
    {
      "cell_type": "markdown",
      "metadata": {
        "id": "7OmdC04GY4Ya"
      },
      "source": [
        "### Расчет множественного и частного коэффициента Корреляции"
      ]
    },
    {
      "cell_type": "code",
      "execution_count": null,
      "metadata": {
        "colab": {
          "base_uri": "https://localhost:8080/"
        },
        "id": "DT1gMrDgpBp2",
        "outputId": "bd7b4ff2-b4bd-42aa-8679-ad8ae9d9dd1f"
      },
      "outputs": [],
      "source": [
        "import numpy as np\n",
        "import pandas as pd\n",
        "from scipy import stats\n",
        "\n",
        "# Исходные данные\n",
        "data = data = {\n",
        "    'X1': [],\n",
        "    'X2': [],\n",
        "    'X3': [],\n",
        "    'X4': [],\n",
        "    'Y': []\n",
        "}\n",
        "\n",
        "df = pd.DataFrame(data)\n",
        "\n",
        "# Получаем Корреляционную матрицу\n",
        "corr_matrix = data.corr(method='pearson')\n",
        "\n",
        "print(\"Парные коэффициенты корреляции:\")\n",
        "display(corr_matrix)\n",
        "\n",
        "def part_corr(corr_matrix, factor, n):\n",
        "    r_part = ?\n",
        "    df = n - 5\n",
        "    t_stat = r_part / np.sqrt((1 - r_part**2) / df)\n",
        "    p_value = 2 * (1 - stats.t.cdf(abs(t_stat), df=df))\n",
        "    return p_value, r_part\n",
        "\n",
        "\n",
        "def multiple_corr(corr_matrix, n):\n",
        "    R_y = ?\n",
        "    k = 4\n",
        "    df = n - k - 1\n",
        "    f_stat = (R_y ** 2 * df) / (((1 - R_y) ** 2) * k)\n",
        "    p_value = 1 - stats.f.cdf(abs(f_stat), dfn=df, dfd=k)\n",
        "    return p_value, R_y\n",
        "\n",
        "# Парные коэффициенты корреляции Пирсона\n",
        "p_y_x1, r_y_x1 = corr(df['Y'], df['X1'])\n",
        "p_y_x2, r_y_x2 = corr(df['Y'], df['X2'])\n",
        "p_y_x3, r_y_x3 = corr(df['Y'], df['X3'])\n",
        "p_y_x4, r_y_x4 = corr(df['Y'], df['X4'])\n",
        "\n",
        "print(\"Парные коэффициенты корреляции:\")\n",
        "print(f\"r(Y,X1) = {r_y_x1:.3f}\")\n",
        "print(f\"r(Y,X2) = {r_y_x2:.3f}\")\n",
        "print(f\"r(Y,X3) = {r_y_x3:.3f}\\n\")\n",
        "print(f\"r(Y,X4) = {r_y_x4:.3f}\\n\")\n",
        "\n",
        "print(\"Проверка значимости парных коэффициентов:\")\n",
        "print(f\"r(X,X1), p-value = {p_y_x1:.3f}\")\n",
        "print(f\"r(X,X2), p-value = {p_y_x2:.3f}\")\n",
        "print(f\"r(Y,X3), p-value = {p_y_x3:.3f}\\n\")\n",
        "print(f\"r(Y,X4), p-value = {p_y_x4:.3f}\\n\")\n",
        "\n",
        "p_part_y_x1, r_part_y_x1 = part_corr(corr_matrix, 'X1' ,len(df['X']))\n",
        "p_part_y_x1, r_part_y_x2 = part_corr(corr_matrix, 'X2' ,len(df['X']))\n",
        "p_part_y_x1, r_part_y_x3 = part_corr(corr_matrix, 'X3' ,len(df['X']))\n",
        "p_part_y_x1, r_part_y_x4 = part_corr(corr_matrix, 'X4' ,len(df['X']))\n",
        "\n",
        "print(\"Частные коэффициенты корреляции:\")\n",
        "print(f\"r(Y,X1|X2,X3,X4) = {r_part_y_x1:.3f}\")\n",
        "print(f\"r(Y,X2|X1,X3,X4) = {r_part_y_x2:.3f}\")\n",
        "print(f\"r(Y,X3|X1,X2,X4) = {r_part_y_x3:.3f}\\n\")\n",
        "print(f\"r(Y,X4|X1,X2,X3) = {r_part_y_x4:.3f}\\n\")\n",
        "\n",
        "print(\"Проверка значимости частных коэффициентов:\")\n",
        "print(f\"r(Y,X1|X2,X3,X4), p-value = {p_part_y_x1:.3f}\")\n",
        "print(f\"r(Y,X2|X1,X3,X4), p-value = {p_part_y_x1:.3f}\")\n",
        "print(f\"r(Y,X3|X1,X2,X4), p-value = {p_part_y_x1:.3f}\\n\")\n",
        "print(f\"r(Y,X4|X1,X2,X3), p-value = {p_part_y_x1:.3f}\\n\")\n",
        "\n",
        "p_y, R_y = multiple_corr(corr_matrix, 'Y', len(df['X']))\n",
        "\n",
        "# Множественный коэффициент корреляции (R для Y от X1, X2, X3, X4)\n",
        "print(f\"Множественный коэффициент корреляции R(Y|X1,X2,X3,X4) = {R_y:.3f}\")\n",
        "print(\"Проверка значимости множественного коэффициента корреляции:\")\n",
        "print(f\"R(Y|X1,X2,X3,X4), p-value = {p_y:.3f}\")\n"
      ]
    },
    {
      "cell_type": "markdown",
      "metadata": {},
      "source": [
        "### Оценка коэффициента детерминации. Для получения предсказаний используем Линейную регрессию."
      ]
    },
    {
      "cell_type": "code",
      "execution_count": null,
      "metadata": {},
      "outputs": [],
      "source": [
        "from sklearn.linear_model import LinearRegression\n",
        "from sklearn.metrics import r2_score\n",
        "\n",
        "# Данные (Нужно )\n",
        "X = ?\n",
        "Y = ?\n",
        "\n",
        "# Обучаем модель\n",
        "model = LinearRegression().fit(X, Y)\n",
        "Y_pred = model.predict(X)\n",
        "\n",
        "# Расчет R²\n",
        "R_squared = r2_score(Y, Y_pred)\n",
        "print(f\"R² = {R_squared:.4f}\")"
      ]
    }
  ],
  "metadata": {
    "colab": {
      "provenance": []
    },
    "kernelspec": {
      "display_name": "Pytorch",
      "language": "python",
      "name": "python3"
    },
    "language_info": {
      "codemirror_mode": {
        "name": "ipython",
        "version": 3
      },
      "file_extension": ".py",
      "mimetype": "text/x-python",
      "name": "python",
      "nbconvert_exporter": "python",
      "pygments_lexer": "ipython3",
      "version": "3.10.13"
    }
  },
  "nbformat": 4,
  "nbformat_minor": 0
}
