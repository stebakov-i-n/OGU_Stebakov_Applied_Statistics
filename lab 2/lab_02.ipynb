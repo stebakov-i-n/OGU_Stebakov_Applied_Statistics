{
  "nbformat": 4,
  "nbformat_minor": 0,
  "metadata": {
    "colab": {
      "provenance": []
    },
    "kernelspec": {
      "name": "python3",
      "display_name": "Python 3"
    },
    "language_info": {
      "name": "python"
    }
  },
  "cells": [
    {
      "cell_type": "markdown",
      "source": [
        "### Распределение Пуассона"
      ],
      "metadata": {
        "id": "GB6vr8V1x2ta"
      }
    },
    {
      "cell_type": "code",
      "source": [
        "import numpy as np\n",
        "from scipy.special import factorial\n",
        "from scipy.stats import chi2, poisson\n",
        "from matplotlib import pyplot as plt\n",
        "\n",
        "\n",
        "# Исходные данные\n",
        "\n",
        "# Расчет теоретических частот\n",
        "\n",
        "counts_pred = ?\n",
        "\n",
        "# Расчет значений критерия\n",
        "\n",
        "chi2_stat = ?\n",
        "chi2_cr = ?\n",
        "\n",
        "# Визуализация эмпирических и теоретических частот\n",
        "\n",
        "plt.plot(?)\n",
        "plt.plot(?)\n",
        "plt.legend(?)\n",
        "plt.show()\n",
        "\n",
        "# Вывод о нулевой гипотезе\n",
        "\n",
        "# Выполнение дополнительных заданий\n",
        "# Для расчетов использовать функцию poisson.cdf (https://docs.scipy.org/doc/scipy-1.15.2/reference/generated/scipy.stats.poisson.html#scipy.stats.poisson)\n",
        "# Параметр mu это среднее значение λ\n"
      ],
      "metadata": {
        "id": "BDQ1JXRdmong"
      },
      "execution_count": null,
      "outputs": []
    },
    {
      "cell_type": "markdown",
      "source": [
        "### Нормальное распределение"
      ],
      "metadata": {
        "id": "GcrwXYSB09YW"
      }
    },
    {
      "cell_type": "code",
      "source": [
        "import numpy as np\n",
        "from scipy.stats import chi2, norm\n",
        "from matplotlib import pyplot as plt\n",
        "\n",
        "# Исходные данные\n",
        "\n",
        "# Разбиение на интервалы и визуализация гистограммы\n",
        "counts, values, _ = plt.hist(?)\n",
        "plt.show()\n",
        "\n",
        "# Расчет теоретических частот\n",
        "\n",
        "counts_pred = ?\n",
        "\n",
        "# Расчет значений критерия\n",
        "\n",
        "chi2_stat = ?\n",
        "chi2_cr = ?\n",
        "\n",
        "# Визуализация boxplot\n",
        "plt.boxplot(?)\n",
        "plt.show()\n",
        "\n",
        "# Визуализация эмпирических и теоретических частот\n",
        "\n",
        "plt.plot(?)\n",
        "plt.plot(?)\n",
        "plt.legend(?)\n",
        "plt.show()\n",
        "\n",
        "# Вывод о нулевой гипотезе\n",
        "\n",
        "\n",
        "# Выполнение дополнительных заданий\n",
        "# Для расчетов использовать функцию norm.cdf (https://docs.scipy.org/doc/scipy/reference/generated/scipy.stats.Normal.cdf.html)\n",
        "# Предварительно нормировать данные по формуле: (x - mean) / std"
      ],
      "metadata": {
        "id": "RV_v30fsLxro"
      },
      "execution_count": null,
      "outputs": []
    }
  ]
}