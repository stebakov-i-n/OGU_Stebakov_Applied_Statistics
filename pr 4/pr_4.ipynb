{
  "nbformat": 4,
  "nbformat_minor": 0,
  "metadata": {
    "colab": {
      "provenance": []
    },
    "kernelspec": {
      "name": "python3",
      "display_name": "Python 3"
    },
    "language_info": {
      "name": "python"
    }
  },
  "cells": [
    {
      "cell_type": "markdown",
      "source": [
        "### Задание 1.\n",
        "По результатам эксперимента получены значения динамической вязкости масла МС-20 от температуры. Определить значение выборочного коэффициента корреляции и оценить его значимость. Сделать выводы. Уровень значимости принять 0.05.\n",
        "\n",
        "Т, °С\t30,0\t40,0\t50,0\t60,0\t70,0\n",
        "\n",
        "μ, Па*с\t0,423\t0,240\t0,145\t0,070\t0,050\n",
        "\n",
        "\n",
        "Вывести график разброса по преложенным данным. Сделать подписи к осям."
      ],
      "metadata": {
        "id": "OoA92IczVuQQ"
      }
    },
    {
      "cell_type": "code",
      "execution_count": null,
      "metadata": {
        "id": "AUyExGOGhJcM"
      },
      "outputs": [],
      "source": [
        "import numpy as np\n",
        "from scipy import stats\n",
        "import matplotlib.pyplot as plt\n",
        "\n",
        "# Данные: температура (°C) и динамическая вязкость (Па·с)\n",
        "temperature = ?\n",
        "viscosity = ?\n",
        "\n",
        "# 1. Расчет коэффициента корреляции Пирсона\n",
        "\n",
        "def corr(x1, x2):\n",
        "    r = ?\n",
        "    n = len(x1)\n",
        "    df = n - 2\n",
        "    t_stat = r / np.sqrt((1 - r**2) / df)\n",
        "    p_value = ?\n",
        "    return p_value, r\n",
        "\n",
        "p_value, corr_coef = corr(temperature, viscosity)\n",
        "print(f\"Коэффициент корреляции Пирсона: {corr_coef:.3f}\")\n",
        "print(f\"p-значение: {p_value:.4f}\")\n",
        "\n",
        "# 2. Проверка значимости (α = 0.05)\n",
        "alpha = 0.05\n",
        "\n",
        "# 3. Визуализация\n"
      ]
    },
    {
      "cell_type": "markdown",
      "source": [
        "### Задание 2.\n",
        "\n",
        "Проверить линейность корреляционной связи, используя корреляционное отношение и коэффициент корреляции.\n",
        "\n",
        "|Номер опыта||||||\n",
        "|:-|:-:|:-:|:-:|:-:|-:|\n",
        "|**Уровень фактора** |2 |4 |9 |13 |15|\n",
        "||||||\n",
        "|1 |1 |7 |14 |11 |8|\n",
        "|2 |3 |8 |19 |9 |7|\n",
        "|3 |4 |12 |21 |6 |3|\n",
        "\n"
      ],
      "metadata": {
        "id": "ICFIXY_QWYXU"
      }
    },
    {
      "cell_type": "code",
      "source": [
        "import numpy as np\n",
        "from scipy import stats\n",
        "\n",
        "# Исходные данные\n",
        "X = ?\n",
        "Y = ?\n",
        "\n",
        "# 1. Подготовка данных: преобразуем в плоские массивы\n",
        "X_full = np.repeat(X.reshape(1, -1), 3, axis=0).flatten()\n",
        "Y_full = Y.flatten()\n",
        "\n",
        "# 2. Коэффициент корреляции Пирсона (r)\n",
        "p_value, r = corr(X_full, Y_full)\n",
        "print(f\"Коэффициент корреляции Пирсона (r): {r:.3f}\")\n",
        "\n",
        "# 3. Корреляционное отношение (η)\n",
        "def correlation_ratio(X, Y):\n",
        "    eta = ?\n",
        "    return eta\n",
        "\n",
        "eta = correlation_ratio(X_full, Y_full)\n",
        "print(f\"Корреляционное отношение (η): {eta:.3f}\")\n",
        "\n",
        "# 4. Проверка линейности\n",
        "if np.isclose(eta, abs(r), atol=0.1):\n",
        "    print(\"Связь близка к линейной (η ≈ |r|)\")\n",
        "else:\n",
        "    print(\"Связь нелинейная (η > |r|)\")\n",
        "\n",
        "import matplotlib.pyplot as plt\n",
        "\n",
        "# 5. Визуализация\n"
      ],
      "metadata": {
        "id": "Kt14tzEFkPAY"
      },
      "execution_count": null,
      "outputs": []
    },
    {
      "cell_type": "markdown",
      "source": [
        "### Задание 3. Найти множественный коэффициент корреляции, а также частные коэффициенты между исследуемыми параметрами:\n",
        "\n",
        "|          |           |           |           |           |           |           |           |           |           |           |\n",
        "|----------|-----------|-----------|-----------|-----------|-----------|-----------|-----------|-----------|-----------|-----------|\n",
        "|     **X**    |     1     |     3     |     4     |     7     |     12    |     4     |     19    |     21    |     1     |     3     |\n",
        "|     **Y**    |     12    |     42    |     58    |     71    |     68    |     50    |     49    |     85    |     18    |     26    |\n",
        "|     **Z**    |     41    |     12    |     7     |     3     |     14    |     27    |     38    |     13    |     64    |     75    |\n"
      ],
      "metadata": {
        "id": "7OmdC04GY4Ya"
      }
    },
    {
      "cell_type": "code",
      "source": [
        "import numpy as np\n",
        "import pandas as pd\n",
        "from scipy import stats\n",
        "\n",
        "# Исходные данные\n",
        "data = {\n",
        "    'X': [1, 3, 4, 7, 12, 4, 19, 21, 1, 3],\n",
        "    'Y': [12, 42, 58, 71, 68, 50, 49, 85, 18, 26],\n",
        "    'Z': [41, 12, 7, 3, 14, 27, 38, 13, 64, 75]\n",
        "}\n",
        "\n",
        "df = pd.DataFrame(data)\n",
        "\n",
        "def part_corr(r1, r2, r3, n):\n",
        "    r_part = ?\n",
        "    df = n - 2\n",
        "    t_stat = r_part / np.sqrt((1 - r_part**2) / df)\n",
        "    p_value = ?\n",
        "    return p_value, r_part\n",
        "\n",
        "\n",
        "def multiple_corr(r_xy, r_xz, r_yz, n):\n",
        "    R_y_xz = ?\n",
        "    k = 2\n",
        "    df = n - k - 1\n",
        "    f_stat = (R_y_xz ** 2 * df) / (((1 - R_y_xz) ** 2) * k)\n",
        "    dfn = df\n",
        "    dfd = k\n",
        "    p_value = ?\n",
        "    return p_value, R_y_xz\n",
        "\n",
        "# Парные коэффициенты корреляции Пирсона\n",
        "r_xy = corr(df['X'], df['Y'])[1]\n",
        "r_xz = corr(df['X'], df['Z'])[1]\n",
        "r_yz = corr(df['Y'], df['Z'])[1]\n",
        "\n",
        "print(\"Парные коэффициенты корреляции:\")\n",
        "print(f\"r(X,Y|Z) = {r_xy:.3f}\")\n",
        "print(f\"r(X,Z|Y) = {r_xz:.3f}\")\n",
        "print(f\"r(Y,Z|X) = {r_yz:.3f}\\n\")\n",
        "\n",
        "p_xy_z, r_xy_z = part_corr(r_xy, r_xz, r_yz, len(df['X']))\n",
        "p_xz_y, r_xz_y = part_corr(r_xz, r_xy, r_yz, len(df['X']))\n",
        "p_yz_x, r_yz_x = part_corr(r_yz, r_xy, r_xz, len(df['X']))\n",
        "\n",
        "print(\"Частные коэффициенты корреляции:\")\n",
        "print(f\"r(X,Y|Z) = {r_xy_z:.3f}\")\n",
        "print(f\"r(X,Z|Y) = {r_xz_y:.3f}\")\n",
        "print(f\"r(Y,Z|X) = {r_yz_x:.3f}\\n\")\n",
        "\n",
        "print(\"Проверка значимости частных коэффициентов:\")\n",
        "print(f\"r(X,Y|Z), p-value = {p_xy_z:.3f}\")\n",
        "print(f\"r(X,Z|Y), p-value = {p_xz_y:.3f}\")\n",
        "print(f\"r(Y,Z|X), p-value = {p_yz_x:.3f}\\n\")\n",
        "\n",
        "p_y_xz, R_y_xz = multiple_corr(r_xy, r_xz, r_yz, len(df['X']))\n",
        "\n",
        "# Множественный коэффициент корреляции (R для Y от X и Z)\n",
        "print(f\"Множественный коэффициент корреляции R(Y|X,Z) = {R_y_xz:.3f}\")\n",
        "print(\"Проверка значимости множественного коэффициента корреляции:\")\n",
        "print(f\"R(Y|X,Z), p-value = {p_y_xz:.3f}\")\n"
      ],
      "metadata": {
        "id": "DT1gMrDgpBp2"
      },
      "execution_count": null,
      "outputs": []
    }
  ]
}